{
 "cells": [
  {
   "cell_type": "markdown",
   "id": "39823951-54dc-4651-bd95-e9116badf2d6",
   "metadata": {},
   "source": [
    "# OpenEye Structural Featurizer"
   ]
  },
  {
   "cell_type": "code",
   "execution_count": 1,
   "id": "ba3e7292-700b-424f-b382-73efb82b3ffd",
   "metadata": {
    "tags": []
   },
   "outputs": [
    {
     "name": "stderr",
     "output_type": "stream",
     "text": [
      "/home/david/miniconda3/envs/kinoml/lib/python3.9/site-packages/numpy/core/getlimits.py:499: UserWarning: The value of the smallest subnormal for <class 'numpy.float64'> type is zero.\n",
      "  setattr(self, word, getattr(machar, word).flat[0])\n",
      "/home/david/miniconda3/envs/kinoml/lib/python3.9/site-packages/numpy/core/getlimits.py:89: UserWarning: The value of the smallest subnormal for <class 'numpy.float64'> type is zero.\n",
      "  return self._float_to_str(self.smallest_subnormal)\n",
      "/home/david/miniconda3/envs/kinoml/lib/python3.9/site-packages/numpy/core/getlimits.py:499: UserWarning: The value of the smallest subnormal for <class 'numpy.float32'> type is zero.\n",
      "  setattr(self, word, getattr(machar, word).flat[0])\n",
      "/home/david/miniconda3/envs/kinoml/lib/python3.9/site-packages/numpy/core/getlimits.py:89: UserWarning: The value of the smallest subnormal for <class 'numpy.float32'> type is zero.\n",
      "  return self._float_to_str(self.smallest_subnormal)\n",
      "/home/david/miniconda3/envs/kinoml/lib/python3.9/site-packages/MDAnalysis/coordinates/TRJ.py:1209: DeprecationWarning: Please use `netcdf_file` from the `scipy.io` namespace, the `scipy.io.netcdf` namespace is deprecated.\n",
      "  class NCDFPicklable(scipy.io.netcdf.netcdf_file):\n"
     ]
    }
   ],
   "source": [
    "from importlib import resources\n",
    "import inspect\n",
    "\n",
    "from appdirs import user_cache_dir\n",
    "\n",
    "from kinoml.core.ligands import Ligand\n",
    "from kinoml.core.proteins import Protein\n",
    "from kinoml.core.systems import ProteinSystem\n",
    "from kinoml.features.protein import OEProteinStructureFeaturizer"
   ]
  },
  {
   "cell_type": "markdown",
   "id": "91e7515b-a9a1-47a8-9e06-76c080669e6a",
   "metadata": {},
   "source": [
    "## OEProteinStructureFeaturizer"
   ]
  },
  {
   "cell_type": "code",
   "execution_count": 2,
   "id": "50ec8fcf-495e-4c84-896a-6b65eb5c41a3",
   "metadata": {},
   "outputs": [
    {
     "name": "stdout",
     "output_type": "stream",
     "text": [
      "Given systems with exactly one protein, prepare the protein structure by:\n",
      "\n",
      " - modeling missing loops\n",
      " - building missing side chains\n",
      " - mutations, if `uniprot_id` or `sequence` attribute is provided for the protein component\n",
      "   (see below)\n",
      " - removing everything but protein and water\n",
      " - protonation at pH 7.4\n",
      "\n",
      "The protein component of each system must have a `pdb_id` or a `path` attribute specifying\n",
      "the protein structure to prepare.\n",
      "\n",
      " - `pdb_id`: A string specifying the PDB entry of interest, required if `path` not given.\n",
      " - `path`: The path to the structure file, required if `pdb_id` not given.\n",
      "\n",
      "Additionally, the protein component can have the following optional attributes to customize\n",
      "the protein modeling:\n",
      "\n",
      " - `name`: A string specifying the name of the protein, will be used for generating the\n",
      "   output file name.\n",
      " - `chain_id`: A string specifying which chain should be used.\n",
      " - `alternate_location`: A string specifying which alternate location should be used.\n",
      " - `expo_id`: A string specifying a ligand bound to the protein of interest. This is especially\n",
      "   useful if multiple proteins are found in one PDB structure.\n",
      " - `uniprot_id`: A string specifying the UniProt ID that will be used to fetch the amino acid\n",
      "   sequence from UniProt, which will be used for modeling the protein. This will supersede the\n",
      "   sequence information given in the PDB header.\n",
      " - `sequence`: A  string specifying the amino acid sequence in one-letter-codes that should be\n",
      "   used during modeling the protein. This will supersede a given `uniprot_id` and the sequence\n",
      "   information given in the PDB header.\n",
      "\n",
      "Parameters\n",
      "----------\n",
      "loop_db: str\n",
      "    The path to the loop database used by OESpruce to model missing loops.\n",
      "cache_dir: str, Path or None, default=None\n",
      "    Path to directory used for saving intermediate files. If None, default location\n",
      "    provided by `appdirs.user_cache_dir()` will be used.\n",
      "output_dir: str, Path or None, default=None\n",
      "    Path to directory used for saving output files. If None, output structures will not be\n",
      "    saved.\n"
     ]
    }
   ],
   "source": [
    "print(inspect.getdoc(OEProteinStructureFeaturizer))"
   ]
  },
  {
   "cell_type": "code",
   "execution_count": 3,
   "id": "19e36150-0c66-4bcf-aa2f-e31e8331f4f7",
   "metadata": {},
   "outputs": [],
   "source": [
    "systems = []\n",
    "protein = Protein(pdb_id=\"4f8o\", name=\"PsaA\")\n",
    "system = ProteinSystem(components=[protein])\n",
    "systems.append(system)"
   ]
  },
  {
   "cell_type": "code",
   "execution_count": 4,
   "id": "4863a511-87e7-4301-9b74-d9a428f4ac50",
   "metadata": {},
   "outputs": [],
   "source": [
    "protein = Protein.from_pdb(pdb_id=\"4f8o\", name=\"PsaA\")\n",
    "protein.uniprot_id = \"P31522\"\n",
    "protein.chain_id = \"A\"\n",
    "protein.alternate_location = \"B\"\n",
    "protein.expo_id = \"AES\"\n",
    "system = ProteinSystem(components=[protein])\n",
    "systems.append(system)"
   ]
  },
  {
   "cell_type": "code",
   "execution_count": 5,
   "id": "f15a753f-5fab-4705-907f-9e9e1dc5b2b1",
   "metadata": {},
   "outputs": [],
   "source": [
    "with resources.path(\"kinoml.data.proteins\", \"4f8o_edit.pdb\") as structure_path:\n",
    "    pass\n",
    "protein = Protein.from_file(file_path=structure_path, name=\"PsaA\")\n",
    "protein.uniprot_id = \"P31522\"\n",
    "system = ProteinSystem(components=[protein])\n",
    "systems.append(system)"
   ]
  },
  {
   "cell_type": "code",
   "execution_count": 6,
   "id": "44c9a4c1-36b4-46cd-acd9-84bcc1593512",
   "metadata": {},
   "outputs": [],
   "source": [
    "with resources.path(\"kinoml.data.proteins\", \"kinoml_tests_4f8o_spruce.loop_db\") as loop_db:\n",
    "    pass\n",
    "featurizer = OEProteinStructureFeaturizer(\n",
    "    loop_db=loop_db,\n",
    "    output_dir=user_cache_dir(),\n",
    ")"
   ]
  },
  {
   "cell_type": "code",
   "execution_count": 7,
   "id": "084058f9-3d8b-4c38-93c5-73fb4e72984c",
   "metadata": {},
   "outputs": [
    {
     "name": "stderr",
     "output_type": "stream",
     "text": [
      "WARNING:root:Warning: importing 'simtk.openmm' is deprecated.  Import 'openmm' instead.\n",
      "/home/david/miniconda3/envs/kinoml/lib/python3.9/site-packages/MDAnalysis/coordinates/base.py:892: UserWarning: Reader has no dt information, set to 1.0 ps\n",
      "  warnings.warn(\"Reader has no dt information, set to 1.0 ps\")\n",
      "WARNING:root:Warning: importing 'simtk.openmm' is deprecated.  Import 'openmm' instead.\n",
      "/home/david/miniconda3/envs/kinoml/lib/python3.9/site-packages/MDAnalysis/coordinates/base.py:892: UserWarning: Reader has no dt information, set to 1.0 ps\n",
      "  warnings.warn(\"Reader has no dt information, set to 1.0 ps\")\n",
      "WARNING:root:Warning: importing 'simtk.openmm' is deprecated.  Import 'openmm' instead.\n",
      "/home/david/miniconda3/envs/kinoml/lib/python3.9/site-packages/MDAnalysis/coordinates/base.py:892: UserWarning: Reader has no dt information, set to 1.0 ps\n",
      "  warnings.warn(\"Reader has no dt information, set to 1.0 ps\")\n"
     ]
    },
    {
     "data": {
      "text/plain": [
       "[<ProteinSystem with 1 components (<Protein name=PsaA>)>,\n",
       " <ProteinSystem with 1 components (<Protein name=PsaA>)>,\n",
       " <ProteinSystem with 1 components (<Protein name=PsaA>)>]"
      ]
     },
     "execution_count": 7,
     "metadata": {},
     "output_type": "execute_result"
    }
   ],
   "source": [
    "systems = featurizer.featurize(systems)\n",
    "systems"
   ]
  },
  {
   "cell_type": "code",
   "execution_count": 8,
   "id": "8cb40c64-3d1c-47b1-8ff8-9b1f12113835",
   "metadata": {},
   "outputs": [
    {
     "data": {
      "text/plain": [
       "<ProteinSystem with 1 components (<Protein name=PsaA>)>"
      ]
     },
     "execution_count": 8,
     "metadata": {},
     "output_type": "execute_result"
    }
   ],
   "source": [
    "systems[0]"
   ]
  },
  {
   "cell_type": "code",
   "execution_count": 9,
   "id": "8300557b-9864-4451-a56d-0d56ff6c3d36",
   "metadata": {},
   "outputs": [
    {
     "data": {
      "text/plain": [
       "<Universe with 2381 atoms>"
      ]
     },
     "execution_count": 9,
     "metadata": {},
     "output_type": "execute_result"
    }
   ],
   "source": [
    "systems[0].featurizations[\"last\"]"
   ]
  },
  {
   "cell_type": "code",
   "execution_count": 10,
   "id": "4b278a03-9f3d-43fa-adf3-29a230b49b7d",
   "metadata": {},
   "outputs": [],
   "source": [
    "# check number of residues\n",
    "assert len(systems[0].featurizations[\"last\"].residues) == 239\n",
    "assert len(systems[1].featurizations[\"last\"].residues) == 216\n",
    "assert len(systems[2].featurizations[\"last\"].residues) == 109\n",
    "\n",
    "# check numbering of first residue\n",
    "assert systems[0].featurizations[\"last\"].residues[0].resid == 1\n",
    "assert systems[1].featurizations[\"last\"].residues[0].resid == 44\n",
    "assert systems[2].featurizations[\"last\"].residues[0].resid == 47"
   ]
  }
 ],
 "metadata": {
  "kernelspec": {
   "display_name": "Python 3 (ipykernel)",
   "language": "python",
   "name": "python3"
  },
  "language_info": {
   "codemirror_mode": {
    "name": "ipython",
    "version": 3
   },
   "file_extension": ".py",
   "mimetype": "text/x-python",
   "name": "python",
   "nbconvert_exporter": "python",
   "pygments_lexer": "ipython3",
   "version": "3.9.10"
  }
 },
 "nbformat": 4,
 "nbformat_minor": 5
}
