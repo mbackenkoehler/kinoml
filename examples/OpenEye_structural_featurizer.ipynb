{
 "cells": [
  {
   "cell_type": "markdown",
   "id": "39823951-54dc-4651-bd95-e9116badf2d6",
   "metadata": {},
   "source": [
    "# OpenEye Structural Featurizer"
   ]
  },
  {
   "cell_type": "code",
   "execution_count": 1,
   "id": "ba3e7292-700b-424f-b382-73efb82b3ffd",
   "metadata": {
    "tags": []
   },
   "outputs": [
    {
     "name": "stderr",
     "output_type": "stream",
     "text": [
      "/home/david/miniconda3/envs/kinoml/lib/python3.9/site-packages/numpy/core/getlimits.py:499: UserWarning: The value of the smallest subnormal for <class 'numpy.float64'> type is zero.\n",
      "  setattr(self, word, getattr(machar, word).flat[0])\n",
      "/home/david/miniconda3/envs/kinoml/lib/python3.9/site-packages/numpy/core/getlimits.py:89: UserWarning: The value of the smallest subnormal for <class 'numpy.float64'> type is zero.\n",
      "  return self._float_to_str(self.smallest_subnormal)\n",
      "/home/david/miniconda3/envs/kinoml/lib/python3.9/site-packages/numpy/core/getlimits.py:499: UserWarning: The value of the smallest subnormal for <class 'numpy.float32'> type is zero.\n",
      "  setattr(self, word, getattr(machar, word).flat[0])\n",
      "/home/david/miniconda3/envs/kinoml/lib/python3.9/site-packages/numpy/core/getlimits.py:89: UserWarning: The value of the smallest subnormal for <class 'numpy.float32'> type is zero.\n",
      "  return self._float_to_str(self.smallest_subnormal)\n",
      "/home/david/miniconda3/envs/kinoml/lib/python3.9/site-packages/MDAnalysis/coordinates/TRJ.py:1209: DeprecationWarning: Please use `netcdf_file` from the `scipy.io` namespace, the `scipy.io.netcdf` namespace is deprecated.\n",
      "  class NCDFPicklable(scipy.io.netcdf.netcdf_file):\n"
     ]
    }
   ],
   "source": [
    "from importlib import resources\n",
    "import inspect\n",
    "\n",
    "from appdirs import user_cache_dir\n",
    "\n",
    "from kinoml.core.ligands import Ligand\n",
    "from kinoml.core.proteins import Protein\n",
    "from kinoml.core.systems import ProteinSystem, ProteinLigandComplex\n",
    "from kinoml.features.protein import OEProteinStructureFeaturizer\n",
    "from kinoml.features.complexes import OEComplexFeaturizer, OEDockingFeaturizer"
   ]
  },
  {
   "cell_type": "markdown",
   "id": "91e7515b-a9a1-47a8-9e06-76c080669e6a",
   "metadata": {},
   "source": [
    "## OEProteinStructureFeaturizer"
   ]
  },
  {
   "cell_type": "code",
   "execution_count": 2,
   "id": "50ec8fcf-495e-4c84-896a-6b65eb5c41a3",
   "metadata": {},
   "outputs": [
    {
     "name": "stdout",
     "output_type": "stream",
     "text": [
      "Given systems with exactly one protein, prepare the protein structure by:\n",
      "\n",
      " - modeling missing loops\n",
      " - building missing side chains\n",
      " - mutations, if `uniprot_id` or `sequence` attribute is provided for the protein component\n",
      "   (see below)\n",
      " - removing everything but protein and water\n",
      " - protonation at pH 7.4\n",
      "\n",
      "The protein component of each system must be a `core.proteins.Protein` or a subclass thereof\n",
      "and must be initialized with toolkit='OpenEye'.\n",
      "\n",
      "Additionally, the protein component can have the following optional attributes to customize\n",
      "the protein modeling:\n",
      "\n",
      " - `name`: A string specifying the name of the protein, will be used for generating the\n",
      "   output file name.\n",
      " - `chain_id`: A string specifying which chain should be used.\n",
      " - `alternate_location`: A string specifying which alternate location should be used.\n",
      " - `expo_id`: A string specifying a ligand bound to the protein of interest. This is especially\n",
      "   useful if multiple proteins are found in one PDB structure.\n",
      " - `uniprot_id`: A string specifying the UniProt ID that will be used to fetch the amino acid\n",
      "   sequence from UniProt, which will be used for modeling the protein. This will supersede the\n",
      "   sequence information given in the PDB header.\n",
      " - `sequence`: A  string specifying the amino acid sequence in one-letter-codes that should be\n",
      "   used during modeling the protein. This will supersede a given `uniprot_id` and the sequence\n",
      "   information given in the PDB header.\n",
      "\n",
      "Parameters\n",
      "----------\n",
      "loop_db: str\n",
      "    The path to the loop database used by OESpruce to model missing loops.\n",
      "cache_dir: str, Path or None, default=None\n",
      "    Path to directory used for saving intermediate files. If None, default location\n",
      "    provided by `appdirs.user_cache_dir()` will be used.\n",
      "output_dir: str, Path or None, default=None\n",
      "    Path to directory used for saving output files. If None, output structures will not be\n",
      "    saved.\n"
     ]
    }
   ],
   "source": [
    "print(inspect.getdoc(OEProteinStructureFeaturizer))"
   ]
  },
  {
   "cell_type": "code",
   "execution_count": 3,
   "id": "19e36150-0c66-4bcf-aa2f-e31e8331f4f7",
   "metadata": {},
   "outputs": [],
   "source": [
    "systems = []\n",
    "protein = Protein(pdb_id=\"4f8o\", name=\"PsaA\")\n",
    "system = ProteinSystem(components=[protein])\n",
    "systems.append(system)"
   ]
  },
  {
   "cell_type": "code",
   "execution_count": 4,
   "id": "4863a511-87e7-4301-9b74-d9a428f4ac50",
   "metadata": {},
   "outputs": [],
   "source": [
    "protein = Protein.from_pdb(pdb_id=\"4f8o\", name=\"PsaA\")\n",
    "protein.uniprot_id = \"P31522\"\n",
    "protein.chain_id = \"A\"\n",
    "protein.alternate_location = \"B\"\n",
    "protein.expo_id = \"AES\"\n",
    "system = ProteinSystem(components=[protein])\n",
    "systems.append(system)"
   ]
  },
  {
   "cell_type": "code",
   "execution_count": 5,
   "id": "f15a753f-5fab-4705-907f-9e9e1dc5b2b1",
   "metadata": {},
   "outputs": [],
   "source": [
    "with resources.path(\"kinoml.data.proteins\", \"4f8o_edit.pdb\") as structure_path:\n",
    "    pass\n",
    "protein = Protein.from_file(file_path=structure_path, name=\"PsaA\")\n",
    "protein.uniprot_id = \"P31522\"\n",
    "system = ProteinSystem(components=[protein])\n",
    "systems.append(system)"
   ]
  },
  {
   "cell_type": "code",
   "execution_count": 6,
   "id": "44c9a4c1-36b4-46cd-acd9-84bcc1593512",
   "metadata": {},
   "outputs": [],
   "source": [
    "with resources.path(\"kinoml.data.proteins\", \"kinoml_tests_4f8o_spruce.loop_db\") as loop_db:\n",
    "    pass\n",
    "featurizer = OEProteinStructureFeaturizer(\n",
    "    loop_db=loop_db,\n",
    "    output_dir=user_cache_dir() + \"/protein\",\n",
    ")"
   ]
  },
  {
   "cell_type": "code",
   "execution_count": 7,
   "id": "084058f9-3d8b-4c38-93c5-73fb4e72984c",
   "metadata": {},
   "outputs": [
    {
     "name": "stderr",
     "output_type": "stream",
     "text": [
      "WARNING:root:Warning: importing 'simtk.openmm' is deprecated.  Import 'openmm' instead.\n",
      "/home/david/miniconda3/envs/kinoml/lib/python3.9/site-packages/MDAnalysis/coordinates/base.py:892: UserWarning: Reader has no dt information, set to 1.0 ps\n",
      "  warnings.warn(\"Reader has no dt information, set to 1.0 ps\")\n",
      "WARNING:root:Warning: importing 'simtk.openmm' is deprecated.  Import 'openmm' instead.\n",
      "/home/david/miniconda3/envs/kinoml/lib/python3.9/site-packages/MDAnalysis/coordinates/base.py:892: UserWarning: Reader has no dt information, set to 1.0 ps\n",
      "  warnings.warn(\"Reader has no dt information, set to 1.0 ps\")\n",
      "WARNING:root:Warning: importing 'simtk.openmm' is deprecated.  Import 'openmm' instead.\n",
      "/home/david/miniconda3/envs/kinoml/lib/python3.9/site-packages/MDAnalysis/coordinates/base.py:892: UserWarning: Reader has no dt information, set to 1.0 ps\n",
      "  warnings.warn(\"Reader has no dt information, set to 1.0 ps\")\n"
     ]
    },
    {
     "data": {
      "text/plain": [
       "[<ProteinSystem with 1 components (<Protein name=PsaA>)>,\n",
       " <ProteinSystem with 1 components (<Protein name=PsaA>)>,\n",
       " <ProteinSystem with 1 components (<Protein name=PsaA>)>]"
      ]
     },
     "execution_count": 7,
     "metadata": {},
     "output_type": "execute_result"
    }
   ],
   "source": [
    "systems = featurizer.featurize(systems)\n",
    "systems"
   ]
  },
  {
   "cell_type": "code",
   "execution_count": 8,
   "id": "8cb40c64-3d1c-47b1-8ff8-9b1f12113835",
   "metadata": {},
   "outputs": [
    {
     "data": {
      "text/plain": [
       "<ProteinSystem with 1 components (<Protein name=PsaA>)>"
      ]
     },
     "execution_count": 8,
     "metadata": {},
     "output_type": "execute_result"
    }
   ],
   "source": [
    "systems[0]"
   ]
  },
  {
   "cell_type": "code",
   "execution_count": 9,
   "id": "8300557b-9864-4451-a56d-0d56ff6c3d36",
   "metadata": {},
   "outputs": [
    {
     "data": {
      "text/plain": [
       "<Universe with 2381 atoms>"
      ]
     },
     "execution_count": 9,
     "metadata": {},
     "output_type": "execute_result"
    }
   ],
   "source": [
    "systems[0].featurizations[\"last\"]"
   ]
  },
  {
   "cell_type": "code",
   "execution_count": 10,
   "id": "4b278a03-9f3d-43fa-adf3-29a230b49b7d",
   "metadata": {},
   "outputs": [],
   "source": [
    "# check number of residues\n",
    "assert len(systems[0].featurizations[\"last\"].residues) == 239\n",
    "assert len(systems[1].featurizations[\"last\"].residues) == 216\n",
    "assert len(systems[2].featurizations[\"last\"].residues) == 109\n",
    "\n",
    "# check numbering of first residue\n",
    "assert systems[0].featurizations[\"last\"].residues[0].resid == 1\n",
    "assert systems[1].featurizations[\"last\"].residues[0].resid == 44\n",
    "assert systems[2].featurizations[\"last\"].residues[0].resid == 47"
   ]
  },
  {
   "cell_type": "markdown",
   "id": "b00d8b82-329d-4a6b-9fd2-54a5671533a9",
   "metadata": {},
   "source": [
    "## OEComplexFeaturizer"
   ]
  },
  {
   "cell_type": "code",
   "execution_count": 11,
   "id": "1983dcc6-8234-46f3-8ee4-e165576f71e1",
   "metadata": {},
   "outputs": [],
   "source": [
    "systems = []\n",
    "protein = Protein(pdb_id=\"4f8o\", name=\"PsaA\")\n",
    "ligand = Ligand(name=\"AEBSF\")\n",
    "system = ProteinLigandComplex(components=[protein, ligand])\n",
    "systems.append(system)"
   ]
  },
  {
   "cell_type": "code",
   "execution_count": 12,
   "id": "cee7ded4-954c-4d0d-8dd5-11c8db2de4d8",
   "metadata": {},
   "outputs": [],
   "source": [
    "protein = Protein.from_pdb(pdb_id=\"4f8o\", name=\"PsaA\")\n",
    "protein.uniprot_id = \"P31522\"\n",
    "protein.chain_id = \"A\"\n",
    "protein.alternate_location = \"B\"\n",
    "protein.expo_id = \"AES\"\n",
    "ligand = Ligand(name=\"AEBSF\")\n",
    "system = ProteinLigandComplex(components=[protein, ligand])\n",
    "systems.append(system)"
   ]
  },
  {
   "cell_type": "code",
   "execution_count": 13,
   "id": "5458d5a5-6358-4fd4-9d64-2e734569d1d0",
   "metadata": {},
   "outputs": [],
   "source": [
    "featurizer = OEComplexFeaturizer(\n",
    "    output_dir=user_cache_dir() + \"/complex\",\n",
    ")"
   ]
  },
  {
   "cell_type": "code",
   "execution_count": 14,
   "id": "8eb84eac-ca63-4b72-b938-c7efa55ec19c",
   "metadata": {},
   "outputs": [
    {
     "name": "stderr",
     "output_type": "stream",
     "text": [
      "Warning: importing 'simtk.openmm' is deprecated.  Import 'openmm' instead.\n",
      "/home/david/miniconda3/envs/kinoml/lib/python3.9/site-packages/MDAnalysis/topology/PDBParser.py:334: UserWarning: Unknown element X found for some atoms. These have been given an empty element record. If needed they can be guessed using MDAnalysis.topology.guessers.\n",
      "  warnings.warn(wmsg)\n",
      "/home/david/miniconda3/envs/kinoml/lib/python3.9/site-packages/MDAnalysis/topology/guessers.py:146: UserWarning: Failed to guess the mass for the following atom types: X\n",
      "  warnings.warn(\"Failed to guess the mass for the following atom types: {}\".format(atom_type))\n",
      "/home/david/miniconda3/envs/kinoml/lib/python3.9/site-packages/MDAnalysis/coordinates/base.py:892: UserWarning: Reader has no dt information, set to 1.0 ps\n",
      "  warnings.warn(\"Reader has no dt information, set to 1.0 ps\")\n",
      "Warning: importing 'simtk.openmm' is deprecated.  Import 'openmm' instead.\n",
      "/home/david/miniconda3/envs/kinoml/lib/python3.9/site-packages/MDAnalysis/coordinates/base.py:892: UserWarning: Reader has no dt information, set to 1.0 ps\n",
      "  warnings.warn(\"Reader has no dt information, set to 1.0 ps\")\n"
     ]
    },
    {
     "data": {
      "text/plain": [
       "[<ProteinLigandComplex with 2 components (<Protein name=PsaA>, <Ligand name=AEBSF>)>,\n",
       " <ProteinLigandComplex with 2 components (<Protein name=PsaA>, <Ligand name=AEBSF>)>]"
      ]
     },
     "execution_count": 14,
     "metadata": {},
     "output_type": "execute_result"
    }
   ],
   "source": [
    "systems = featurizer.featurize(systems)\n",
    "systems"
   ]
  },
  {
   "cell_type": "markdown",
   "id": "5e0012c1-1895-47dc-b501-71f4b763477d",
   "metadata": {},
   "source": [
    "## OEDockingFeaturizer"
   ]
  },
  {
   "cell_type": "markdown",
   "id": "3f10336d-6237-480c-a753-7c68bc6e3e2c",
   "metadata": {},
   "source": [
    "### Fred"
   ]
  },
  {
   "cell_type": "code",
   "execution_count": 15,
   "id": "20c215d2-dee7-4d85-a97b-85fbbadd4f36",
   "metadata": {},
   "outputs": [],
   "source": [
    "systems = []\n",
    "protein = Protein(pdb_id=\"4yne\", name=\"NTRK1\")\n",
    "protein.expo_id = \"4EK\"\n",
    "ligand = Ligand(smiles=\"C1CC(N(C1)C2=NC3=C(C=NN3C=C2)NC(=O)N4CCC(C4)O)C5=C(C=CC(=C5)F)F\", name=\"larotrectinib\")\n",
    "system = ProteinLigandComplex(components=[protein, ligand])\n",
    "systems.append(system)"
   ]
  },
  {
   "cell_type": "code",
   "execution_count": 16,
   "id": "366da943-7ad5-450f-910f-6a395d22e0e5",
   "metadata": {},
   "outputs": [],
   "source": [
    "protein = Protein(pdb_id=\"4yne\", name=\"NTRK1\")\n",
    "protein.pocket_resids = [\n",
    "    516, 517, 521, 524, 542, 544, 573, 589, 590, 591, 592, 595, 596, 654, 655, 656, 657, 667, 668\n",
    "]\n",
    "ligand = Ligand(smiles=\"C1CC(N(C1)C2=NC3=C(C=NN3C=C2)NC(=O)N4CCC(C4)O)C5=C(C=CC(=C5)F)F\", name=\"larotrectinib_2\")\n",
    "system = ProteinLigandComplex(components=[protein, ligand])\n",
    "systems.append(system)"
   ]
  },
  {
   "cell_type": "code",
   "execution_count": 17,
   "id": "c3294d21-7f6b-4e05-97a1-ecfae31230d7",
   "metadata": {},
   "outputs": [],
   "source": [
    "featurizer = OEDockingFeaturizer(\n",
    "    output_dir=user_cache_dir() + \"/Fred\",\n",
    "    method=\"Fred\"\n",
    ")"
   ]
  },
  {
   "cell_type": "code",
   "execution_count": 18,
   "id": "b3e703d3-b47d-4b37-ba7c-7847f5eecdbc",
   "metadata": {},
   "outputs": [
    {
     "name": "stderr",
     "output_type": "stream",
     "text": [
      "Warning (not error because allow_undefined_stereo=True): OEMol has unspecified stereochemistry. oemol.GetTitle(): \n",
      "Problematic atoms are:\n",
      "Atom atomic num: 6, name: , idx: 2, aromatic: False, chiral: True with bonds:\n",
      "bond order: 1, chiral: False to atom atomic num: 6, name: , idx: 1, aromatic: False, chiral: False\n",
      "bond order: 1, chiral: False to atom atomic num: 7, name: , idx: 3, aromatic: False, chiral: False\n",
      "bond order: 1, chiral: False to atom atomic num: 6, name: , idx: 23, aromatic: True, chiral: False\n",
      "bond order: 1, chiral: False to atom atomic num: 1, name: , idx: 35, aromatic: False, chiral: False\n",
      "Atom atomic num: 6, name: , idx: 20, aromatic: False, chiral: True with bonds:\n",
      "bond order: 1, chiral: False to atom atomic num: 6, name: , idx: 19, aromatic: False, chiral: False\n",
      "bond order: 1, chiral: False to atom atomic num: 6, name: , idx: 21, aromatic: False, chiral: False\n",
      "bond order: 1, chiral: False to atom atomic num: 8, name: , idx: 22, aromatic: False, chiral: False\n",
      "bond order: 1, chiral: False to atom atomic num: 1, name: , idx: 46, aromatic: False, chiral: False\n",
      "\n",
      "Warning (not error because allow_undefined_stereo=True): OEMol has unspecified stereochemistry. oemol.GetTitle(): \n",
      "Problematic atoms are:\n",
      "Atom atomic num: 6, name: , idx: 2, aromatic: False, chiral: True with bonds:\n",
      "bond order: 1, chiral: False to atom atomic num: 6, name: , idx: 1, aromatic: False, chiral: False\n",
      "bond order: 1, chiral: False to atom atomic num: 7, name: , idx: 3, aromatic: False, chiral: False\n",
      "bond order: 1, chiral: False to atom atomic num: 6, name: , idx: 23, aromatic: True, chiral: False\n",
      "bond order: 1, chiral: False to atom atomic num: 1, name: , idx: 35, aromatic: False, chiral: False\n",
      "Atom atomic num: 6, name: , idx: 20, aromatic: False, chiral: True with bonds:\n",
      "bond order: 1, chiral: False to atom atomic num: 6, name: , idx: 19, aromatic: False, chiral: False\n",
      "bond order: 1, chiral: False to atom atomic num: 6, name: , idx: 21, aromatic: False, chiral: False\n",
      "bond order: 1, chiral: False to atom atomic num: 8, name: , idx: 22, aromatic: False, chiral: False\n",
      "bond order: 1, chiral: False to atom atomic num: 1, name: , idx: 46, aromatic: False, chiral: False\n",
      "\n",
      "Warning: importing 'simtk.openmm' is deprecated.  Import 'openmm' instead.\n",
      "/home/david/miniconda3/envs/kinoml/lib/python3.9/site-packages/MDAnalysis/coordinates/base.py:892: UserWarning: Reader has no dt information, set to 1.0 ps\n",
      "  warnings.warn(\"Reader has no dt information, set to 1.0 ps\")\n",
      "Warning: importing 'simtk.openmm' is deprecated.  Import 'openmm' instead.\n",
      "/home/david/miniconda3/envs/kinoml/lib/python3.9/site-packages/MDAnalysis/coordinates/base.py:892: UserWarning: Reader has no dt information, set to 1.0 ps\n",
      "  warnings.warn(\"Reader has no dt information, set to 1.0 ps\")\n"
     ]
    },
    {
     "data": {
      "text/plain": [
       "[<ProteinLigandComplex with 2 components (<Protein name=NTRK1>, <Ligand name=larotrectinib>)>,\n",
       " <ProteinLigandComplex with 2 components (<Protein name=NTRK1>, <Ligand name=larotrectinib_2>)>]"
      ]
     },
     "execution_count": 18,
     "metadata": {},
     "output_type": "execute_result"
    }
   ],
   "source": [
    "systems = featurizer.featurize(systems)\n",
    "systems"
   ]
  },
  {
   "cell_type": "markdown",
   "id": "fe503149-8950-4319-8d78-3d178fd6f200",
   "metadata": {},
   "source": [
    "### Hybrid"
   ]
  },
  {
   "cell_type": "code",
   "execution_count": 19,
   "id": "53fd6089-158d-4682-a4f6-2b411d1140f9",
   "metadata": {},
   "outputs": [],
   "source": [
    "systems = []\n",
    "protein = Protein(pdb_id=\"4yne\", name=\"NTRK1\")\n",
    "protein.expo_id = \"4EK\"\n",
    "ligand = Ligand(smiles=\"C1CC(N(C1)C2=NC3=C(C=NN3C=C2)NC(=O)N4CCC(C4)O)C5=C(C=CC(=C5)F)F\", name=\"larotrectinib\")\n",
    "system = ProteinLigandComplex(components=[protein, ligand])\n",
    "systems.append(system)"
   ]
  },
  {
   "cell_type": "code",
   "execution_count": 20,
   "id": "e81e540e-b6d2-48b7-ae97-ff15dcc8d394",
   "metadata": {},
   "outputs": [],
   "source": [
    "featurizer = OEDockingFeaturizer(\n",
    "    output_dir=user_cache_dir() + \"/Hybrid\",\n",
    "    method=\"Hybrid\"\n",
    ")"
   ]
  },
  {
   "cell_type": "code",
   "execution_count": 21,
   "id": "42b85a04-1d97-41af-af7d-9647645cc5c9",
   "metadata": {},
   "outputs": [
    {
     "name": "stderr",
     "output_type": "stream",
     "text": [
      "Warning (not error because allow_undefined_stereo=True): OEMol has unspecified stereochemistry. oemol.GetTitle(): \n",
      "Problematic atoms are:\n",
      "Atom atomic num: 6, name: , idx: 2, aromatic: False, chiral: True with bonds:\n",
      "bond order: 1, chiral: False to atom atomic num: 6, name: , idx: 1, aromatic: False, chiral: False\n",
      "bond order: 1, chiral: False to atom atomic num: 7, name: , idx: 3, aromatic: False, chiral: False\n",
      "bond order: 1, chiral: False to atom atomic num: 6, name: , idx: 23, aromatic: True, chiral: False\n",
      "bond order: 1, chiral: False to atom atomic num: 1, name: , idx: 35, aromatic: False, chiral: False\n",
      "Atom atomic num: 6, name: , idx: 20, aromatic: False, chiral: True with bonds:\n",
      "bond order: 1, chiral: False to atom atomic num: 6, name: , idx: 19, aromatic: False, chiral: False\n",
      "bond order: 1, chiral: False to atom atomic num: 6, name: , idx: 21, aromatic: False, chiral: False\n",
      "bond order: 1, chiral: False to atom atomic num: 8, name: , idx: 22, aromatic: False, chiral: False\n",
      "bond order: 1, chiral: False to atom atomic num: 1, name: , idx: 46, aromatic: False, chiral: False\n",
      "\n",
      "Warning: importing 'simtk.openmm' is deprecated.  Import 'openmm' instead.\n",
      "/home/david/miniconda3/envs/kinoml/lib/python3.9/site-packages/MDAnalysis/coordinates/base.py:892: UserWarning: Reader has no dt information, set to 1.0 ps\n",
      "  warnings.warn(\"Reader has no dt information, set to 1.0 ps\")\n"
     ]
    },
    {
     "data": {
      "text/plain": [
       "[<ProteinLigandComplex with 2 components (<Protein name=NTRK1>, <Ligand name=larotrectinib>)>]"
      ]
     },
     "execution_count": 21,
     "metadata": {},
     "output_type": "execute_result"
    }
   ],
   "source": [
    "systems = featurizer.featurize(systems)\n",
    "systems"
   ]
  },
  {
   "cell_type": "markdown",
   "id": "67ada0eb-be71-4259-9874-6aee5eb5ba46",
   "metadata": {
    "tags": []
   },
   "source": [
    "### Posit"
   ]
  },
  {
   "cell_type": "code",
   "execution_count": 22,
   "id": "c353801e-beb7-4584-9ab3-bfce88a575bf",
   "metadata": {},
   "outputs": [],
   "source": [
    "systems = []\n",
    "protein = Protein(pdb_id=\"4yne\", name=\"NTRK1\")\n",
    "protein.expo_id = \"4EK\"\n",
    "ligand = Ligand(smiles=\"C1CC(N(C1)C2=NC3=C(C=NN3C=C2)NC(=O)N4CCC(C4)O)C5=C(C=CC(=C5)F)F\", name=\"larotrectinib\")\n",
    "system = ProteinLigandComplex(components=[protein, ligand])\n",
    "systems.append(system)"
   ]
  },
  {
   "cell_type": "code",
   "execution_count": 23,
   "id": "a36321ea-4171-46d2-ab13-342bd8ad00ad",
   "metadata": {},
   "outputs": [],
   "source": [
    "featurizer = OEDockingFeaturizer(\n",
    "    output_dir=user_cache_dir() + \"/Posit\",\n",
    "    method=\"Posit\"\n",
    ")"
   ]
  },
  {
   "cell_type": "code",
   "execution_count": 24,
   "id": "9f89a73b-8237-42bd-be31-65d828cf56f3",
   "metadata": {},
   "outputs": [
    {
     "name": "stderr",
     "output_type": "stream",
     "text": [
      "Warning (not error because allow_undefined_stereo=True): OEMol has unspecified stereochemistry. oemol.GetTitle(): \n",
      "Problematic atoms are:\n",
      "Atom atomic num: 6, name: , idx: 2, aromatic: False, chiral: True with bonds:\n",
      "bond order: 1, chiral: False to atom atomic num: 6, name: , idx: 1, aromatic: False, chiral: False\n",
      "bond order: 1, chiral: False to atom atomic num: 7, name: , idx: 3, aromatic: False, chiral: False\n",
      "bond order: 1, chiral: False to atom atomic num: 6, name: , idx: 23, aromatic: True, chiral: False\n",
      "bond order: 1, chiral: False to atom atomic num: 1, name: , idx: 35, aromatic: False, chiral: False\n",
      "Atom atomic num: 6, name: , idx: 20, aromatic: False, chiral: True with bonds:\n",
      "bond order: 1, chiral: False to atom atomic num: 6, name: , idx: 19, aromatic: False, chiral: False\n",
      "bond order: 1, chiral: False to atom atomic num: 6, name: , idx: 21, aromatic: False, chiral: False\n",
      "bond order: 1, chiral: False to atom atomic num: 8, name: , idx: 22, aromatic: False, chiral: False\n",
      "bond order: 1, chiral: False to atom atomic num: 1, name: , idx: 46, aromatic: False, chiral: False\n",
      "\n",
      "Warning: importing 'simtk.openmm' is deprecated.  Import 'openmm' instead.\n",
      "/home/david/miniconda3/envs/kinoml/lib/python3.9/site-packages/MDAnalysis/coordinates/base.py:892: UserWarning: Reader has no dt information, set to 1.0 ps\n",
      "  warnings.warn(\"Reader has no dt information, set to 1.0 ps\")\n"
     ]
    },
    {
     "data": {
      "text/plain": [
       "[<ProteinLigandComplex with 2 components (<Protein name=NTRK1>, <Ligand name=larotrectinib>)>]"
      ]
     },
     "execution_count": 24,
     "metadata": {},
     "output_type": "execute_result"
    }
   ],
   "source": [
    "systems = featurizer.featurize(systems)\n",
    "systems"
   ]
  }
 ],
 "metadata": {
  "kernelspec": {
   "display_name": "Python 3 (ipykernel)",
   "language": "python",
   "name": "python3"
  },
  "language_info": {
   "codemirror_mode": {
    "name": "ipython",
    "version": 3
   },
   "file_extension": ".py",
   "mimetype": "text/x-python",
   "name": "python",
   "nbconvert_exporter": "python",
   "pygments_lexer": "ipython3",
   "version": "3.9.10"
  }
 },
 "nbformat": 4,
 "nbformat_minor": 5
}
