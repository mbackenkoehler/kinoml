{
 "cells": [
  {
   "cell_type": "markdown",
   "id": "39823951-54dc-4651-bd95-e9116badf2d6",
   "metadata": {
    "papermill": {
     "duration": 0.063052,
     "end_time": "2022-03-23T16:59:14.919964",
     "exception": false,
     "start_time": "2022-03-23T16:59:14.856912",
     "status": "completed"
    },
    "tags": []
   },
   "source": [
    "# Schrodinger Structural Featurizer"
   ]
  },
  {
   "cell_type": "markdown",
   "id": "37b59918-0cad-4211-aa6a-d43a36f055a2",
   "metadata": {
    "papermill": {
     "duration": 0.054182,
     "end_time": "2022-03-23T16:59:15.031009",
     "exception": false,
     "start_time": "2022-03-23T16:59:14.976827",
     "status": "completed"
    },
    "tags": []
   },
   "source": [
    "This notebook introduces structural modeling featurizers using molecular modeling capabilities from the [Schrodinger Suite](https://www.schrodinger.com/) to prepare protein structures and to dock small molecules into their binding sites."
   ]
  },
  {
   "cell_type": "code",
   "execution_count": 1,
   "id": "ba3e7292-700b-424f-b382-73efb82b3ffd",
   "metadata": {
    "execution": {
     "iopub.execute_input": "2022-03-23T16:59:15.140348Z",
     "iopub.status.busy": "2022-03-23T16:59:15.139984Z",
     "iopub.status.idle": "2022-03-23T16:59:31.427259Z",
     "shell.execute_reply": "2022-03-23T16:59:31.426303Z"
    },
    "papermill": {
     "duration": 16.344564,
     "end_time": "2022-03-23T16:59:31.430088",
     "exception": false,
     "start_time": "2022-03-23T16:59:15.085524",
     "status": "completed"
    },
    "tags": []
   },
   "outputs": [],
   "source": [
    "%%capture --no-display\n",
    "from importlib import resources\n",
    "import inspect\n",
    "from pathlib import Path\n",
    "\n",
    "from appdirs import user_cache_dir\n",
    "\n",
    "from kinoml.core.ligands import Ligand\n",
    "from kinoml.core.proteins import Protein, KLIFSKinase\n",
    "from kinoml.core.systems import ProteinLigandComplex\n",
    "from kinoml.features.core import Pipeline\n",
    "from kinoml.features.complexes import ( \n",
    "    SCHRODINGERComplexFeaturizer, \n",
    "    SCHRODINGERDockingFeaturizer,\n",
    "    MostSimilarPDBLigandFeaturizer,\n",
    "    KLIFSConformationTemplatesFeaturizer,\n",
    ")"
   ]
  },
  {
   "cell_type": "markdown",
   "id": "b00d8b82-329d-4a6b-9fd2-54a5671533a9",
   "metadata": {
    "papermill": {
     "duration": 0.053024,
     "end_time": "2022-03-23T16:59:31.539866",
     "exception": false,
     "start_time": "2022-03-23T16:59:31.486842",
     "status": "completed"
    },
    "tags": []
   },
   "source": [
    "## SCHRODINGERComplexFeaturizer"
   ]
  },
  {
   "cell_type": "markdown",
   "id": "684afa3d-3f34-4cbe-ad12-8a089a526940",
   "metadata": {
    "papermill": {
     "duration": 0.050648,
     "end_time": "2022-03-23T16:59:31.642237",
     "exception": false,
     "start_time": "2022-03-23T16:59:31.591589",
     "status": "completed"
    },
    "tags": []
   },
   "source": [
    "All Schrodinger Featurizers come with an extensive doc string explaining the capabilities and requirements."
   ]
  },
  {
   "cell_type": "code",
   "execution_count": 2,
   "id": "8260c926-b2ad-4700-bb50-4056c2aa63ad",
   "metadata": {
    "execution": {
     "iopub.execute_input": "2022-03-23T16:59:31.751487Z",
     "iopub.status.busy": "2022-03-23T16:59:31.751180Z",
     "iopub.status.idle": "2022-03-23T16:59:31.756311Z",
     "shell.execute_reply": "2022-03-23T16:59:31.755620Z"
    },
    "papermill": {
     "duration": 0.062627,
     "end_time": "2022-03-23T16:59:31.761459",
     "exception": false,
     "start_time": "2022-03-23T16:59:31.698832",
     "status": "completed"
    },
    "tags": []
   },
   "outputs": [
    {
     "name": "stdout",
     "output_type": "stream",
     "text": [
      "Given systems with exactly one protein and one ligand, prepare the complex\n",
      "structure by:\n",
      "\n",
      " - modeling missing loops\n",
      " - building missing side chains\n",
      " - mutations, if `uniprot_id` or `sequence` attribute is provided for the\n",
      "   protein component\n",
      "   (see below)\n",
      " - removing everything but protein, water and ligand of interest\n",
      " - protonation at pH 7.4\n",
      "\n",
      "The protein component of each system must be a `core.proteins.Protein` or\n",
      "a subclass thereof, must be initialized with toolkit='MDAnalysis' and give\n",
      "access to the molecular structure, e.g. via a pdb_id. Additionally, the\n",
      "protein component can have the following optional attributes to customize\n",
      "the protein modeling:\n",
      "\n",
      " - `name`: A string specifying the name of the protein, will be used for\n",
      "   generating the output file name.\n",
      " - `chain_id`: A string specifying which chain should be used.\n",
      " - `alternate_location`: A string specifying which alternate location\n",
      "   should be used.\n",
      " - `expo_id`: A string specifying the ligand of interest. This is\n",
      "   especially useful if multiple ligands are present in a PDB structure.\n",
      " - `uniprot_id`: A string specifying the UniProt ID that will be used to\n",
      "   fetch the amino acid sequence from UniProt, which will be used for\n",
      "   modeling the protein. This will supersede the sequence information\n",
      "   given in the PDB header.\n",
      " - `sequence`: A string specifying the amino acid sequence in\n",
      "   one-letter-codes that should be used during modeling the protein. This\n",
      "   will supersede a given `uniprot_id` and the sequence information given\n",
      "   in the PDB header.\n",
      "\n",
      "The ligand component of each system must be a `core.components.BaseLigand`\n",
      "or a subclass thereof. The ligand component can have the following\n",
      "optional attributes:\n",
      "\n",
      " - `name`: A string specifying the name of the ligand, will be used for\n",
      "   generating the output file name.\n",
      "\n",
      "Parameters\n",
      "----------\n",
      "cache_dir: str, Path or None, default=None\n",
      "    Path to directory used for saving intermediate files. If None, default\n",
      "    location provided by `appdirs.user_cache_dir()` will be used.\n",
      "output_dir: str, Path or None, default=None\n",
      "    Path to directory used for saving output files. If None, output\n",
      "    structures will not be saved.\n",
      "use_multiprocessing : bool, default=True\n",
      "    If multiprocessing to use.\n",
      "n_processes : int or None, default=None\n",
      "    How many processes to use in case of multiprocessing. Defaults to\n",
      "    number of available CPUs.\n",
      "max_retry: int, default=3\n",
      "    The maximal number of attempts to try running the prepwizard step.\n",
      "build_loops: bool, default=True\n",
      "    If missing loops shell be built. Is also needed to model mutations.\n"
     ]
    }
   ],
   "source": [
    "print(inspect.getdoc(SCHRODINGERComplexFeaturizer))"
   ]
  },
  {
   "cell_type": "markdown",
   "id": "11cc845a-cc1d-4f68-a5ef-0f634352dd2e",
   "metadata": {
    "papermill": {
     "duration": 0.050674,
     "end_time": "2022-03-23T16:59:31.866547",
     "exception": false,
     "start_time": "2022-03-23T16:59:31.815873",
     "status": "completed"
    },
    "tags": []
   },
   "source": [
    "In general these featurizers will work with a minimal amount of information, e.g. just a PDB ID. However, it is recommended to be explicit as possible when defining the systems to featurize. For example, if a given PDB entry has multiple chains and ligands, the featurizer will have to guess which chain and ligand is of interest if not explicitly stated."
   ]
  },
  {
   "cell_type": "code",
   "execution_count": 3,
   "id": "f39650b8-ca2f-4791-939c-4ac4ae6a6af4",
   "metadata": {
    "execution": {
     "iopub.execute_input": "2022-03-23T16:59:32.041189Z",
     "iopub.status.busy": "2022-03-23T16:59:32.040855Z",
     "iopub.status.idle": "2022-03-23T16:59:32.045007Z",
     "shell.execute_reply": "2022-03-23T16:59:32.044219Z"
    },
    "papermill": {
     "duration": 0.128646,
     "end_time": "2022-03-23T16:59:32.049375",
     "exception": false,
     "start_time": "2022-03-23T16:59:31.920729",
     "status": "completed"
    },
    "tags": []
   },
   "outputs": [],
   "source": [
    "# collect systems to featurize, i.e. prepare the protein structure\n",
    "systems = []"
   ]
  },
  {
   "cell_type": "code",
   "execution_count": 4,
   "id": "1983dcc6-8234-46f3-8ee4-e165576f71e1",
   "metadata": {
    "execution": {
     "iopub.execute_input": "2022-03-23T16:59:32.178709Z",
     "iopub.status.busy": "2022-03-23T16:59:32.178387Z",
     "iopub.status.idle": "2022-03-23T16:59:32.183848Z",
     "shell.execute_reply": "2022-03-23T16:59:32.183137Z"
    },
    "papermill": {
     "duration": 0.07984,
     "end_time": "2022-03-23T16:59:32.187865",
     "exception": false,
     "start_time": "2022-03-23T16:59:32.108025",
     "status": "completed"
    },
    "tags": []
   },
   "outputs": [],
   "source": [
    "# unspecifc definition of the system, only via PDB ID\n",
    "# modeling will be performed according to the sequence stored in the PDB Header\n",
    "protein = Protein(pdb_id=\"4f8o\", name=\"PsaA\", toolkit=\"MDAnalysis\")\n",
    "ligand = Ligand(name=\"AEBSF\")\n",
    "system = ProteinLigandComplex(components=[protein, ligand])\n",
    "systems.append(system)"
   ]
  },
  {
   "cell_type": "code",
   "execution_count": 5,
   "id": "cee7ded4-954c-4d0d-8dd5-11c8db2de4d8",
   "metadata": {
    "execution": {
     "iopub.execute_input": "2022-03-23T16:59:32.295562Z",
     "iopub.status.busy": "2022-03-23T16:59:32.295243Z",
     "iopub.status.idle": "2022-03-23T16:59:42.108287Z",
     "shell.execute_reply": "2022-03-23T16:59:42.107143Z"
    },
    "papermill": {
     "duration": 9.865034,
     "end_time": "2022-03-23T16:59:42.111325",
     "exception": false,
     "start_time": "2022-03-23T16:59:32.246291",
     "status": "completed"
    },
    "tags": []
   },
   "outputs": [
    {
     "name": "stderr",
     "output_type": "stream",
     "text": [
      "Warning: importing 'simtk.openmm' is deprecated.  Import 'openmm' instead.\n"
     ]
    }
   ],
   "source": [
    "# more specific definition of the system, protein of chain A co-crystallized with ligand AES and\n",
    "# alternate location B, modeling will be performed according to the sequence of the given \n",
    "# UniProt ID\n",
    "protein = Protein.from_pdb(pdb_id=\"4f8o\", name=\"PsaA\", toolkit=\"MDAnalysis\")\n",
    "protein.uniprot_id = \"P31522\"\n",
    "protein.chain_id = \"A\"\n",
    "protein.alternate_location = \"B\"\n",
    "protein.expo_id = \"AES\"\n",
    "ligand = Ligand(name=\"AEBSF\")\n",
    "system = ProteinLigandComplex(components=[protein, ligand])\n",
    "systems.append(system)"
   ]
  },
  {
   "cell_type": "code",
   "execution_count": 6,
   "id": "5458d5a5-6358-4fd4-9d64-2e734569d1d0",
   "metadata": {
    "execution": {
     "iopub.execute_input": "2022-03-23T16:59:42.233399Z",
     "iopub.status.busy": "2022-03-23T16:59:42.233083Z",
     "iopub.status.idle": "2022-03-23T16:59:42.238656Z",
     "shell.execute_reply": "2022-03-23T16:59:42.237951Z"
    },
    "papermill": {
     "duration": 0.06687,
     "end_time": "2022-03-23T16:59:42.242094",
     "exception": false,
     "start_time": "2022-03-23T16:59:42.175224",
     "status": "completed"
    },
    "tags": []
   },
   "outputs": [],
   "source": [
    "featurizer = SCHRODINGERComplexFeaturizer(output_dir=\"output/complex\")"
   ]
  },
  {
   "cell_type": "markdown",
   "id": "678a9610-0009-4b0e-b5b4-cd9fc79a2177",
   "metadata": {
    "papermill": {
     "duration": 0.055604,
     "end_time": "2022-03-23T16:59:42.353862",
     "exception": false,
     "start_time": "2022-03-23T16:59:42.298258",
     "status": "completed"
    },
    "tags": []
   },
   "source": [
    "The featurizers will return the featurized systems as an [MDAnalysis universe](https://www.mdanalysis.org/). Systems that failed will be filtered out. In case one is interested in failures, one can enable logging messages via:\n",
    "```\n",
    "import logging  \n",
    "logging.basicConfig(level=logging.DEBUG)\n",
    "```"
   ]
  },
  {
   "cell_type": "code",
   "execution_count": 7,
   "id": "8eb84eac-ca63-4b72-b938-c7efa55ec19c",
   "metadata": {
    "execution": {
     "iopub.execute_input": "2022-03-23T16:59:42.470011Z",
     "iopub.status.busy": "2022-03-23T16:59:42.469670Z",
     "iopub.status.idle": "2022-03-23T17:07:46.206909Z",
     "shell.execute_reply": "2022-03-23T17:07:46.206384Z"
    },
    "papermill": {
     "duration": 483.798263,
     "end_time": "2022-03-23T17:07:46.208508",
     "exception": false,
     "start_time": "2022-03-23T16:59:42.410245",
     "status": "completed"
    },
    "tags": []
   },
   "outputs": [
    {
     "name": "stdout",
     "output_type": "stream",
     "text": [
      "JobId: lu07-1-623b522e\n"
     ]
    },
    {
     "name": "stderr",
     "output_type": "stream",
     "text": [
      "WARNING mmpdb_write_ct: Atom 2077 of residue A:205 (AES ) has same name (H8_1) as a prior atom.\n",
      "WARNING mmpdb_write_ct: Atom 2078 of residue A:205 (AES ) has same name (H8_2) as a prior atom.\n"
     ]
    },
    {
     "name": "stdout",
     "output_type": "stream",
     "text": [
      "JobId: lu07-0-623b522e\n"
     ]
    },
    {
     "name": "stderr",
     "output_type": "stream",
     "text": [
      "WARNING mmpdb_write_ct: Atom 2480 of residue A:205 (AES ) has same name (H8_1) as a prior atom.\n",
      "WARNING mmpdb_write_ct: Atom 2481 of residue A:205 (AES ) has same name (H8_2) as a prior atom.\n"
     ]
    },
    {
     "data": {
      "text/plain": [
       "[<ProteinLigandComplex with 2 components (<Protein name=PsaA>, <Ligand name=AEBSF>)>,\n",
       " <ProteinLigandComplex with 2 components (<Protein name=PsaA>, <Ligand name=AEBSF>)>]"
      ]
     },
     "execution_count": 7,
     "metadata": {},
     "output_type": "execute_result"
    }
   ],
   "source": [
    "%%capture --no-display\n",
    "systems = featurizer.featurize(systems)\n",
    "systems"
   ]
  },
  {
   "cell_type": "code",
   "execution_count": 8,
   "id": "92d67821-7c0f-4a83-be41-55e5ddd0fa46",
   "metadata": {
    "execution": {
     "iopub.execute_input": "2022-03-23T17:07:46.274532Z",
     "iopub.status.busy": "2022-03-23T17:07:46.274303Z",
     "iopub.status.idle": "2022-03-23T17:07:46.278524Z",
     "shell.execute_reply": "2022-03-23T17:07:46.278054Z"
    },
    "papermill": {
     "duration": 0.038254,
     "end_time": "2022-03-23T17:07:46.281693",
     "exception": false,
     "start_time": "2022-03-23T17:07:46.243439",
     "status": "completed"
    },
    "tags": []
   },
   "outputs": [
    {
     "data": {
      "text/plain": [
       "<Universe with 2506 atoms>"
      ]
     },
     "execution_count": 8,
     "metadata": {},
     "output_type": "execute_result"
    }
   ],
   "source": [
    "systems[0].featurizations[\"last\"]"
   ]
  },
  {
   "cell_type": "markdown",
   "id": "0e684725-a286-4e5a-bbed-c3cf314b7c41",
   "metadata": {
    "papermill": {
     "duration": 0.029968,
     "end_time": "2022-03-23T17:07:46.341349",
     "exception": false,
     "start_time": "2022-03-23T17:07:46.311381",
     "status": "completed"
    },
    "tags": []
   },
   "source": [
    "If an `output_dir` was provided, the prepared structure is saved in PDB format."
   ]
  },
  {
   "cell_type": "code",
   "execution_count": 9,
   "id": "354f1e57-0e54-49b4-ab07-2e0f53b203c5",
   "metadata": {
    "execution": {
     "iopub.execute_input": "2022-03-23T17:07:46.403425Z",
     "iopub.status.busy": "2022-03-23T17:07:46.403213Z",
     "iopub.status.idle": "2022-03-23T17:07:46.407194Z",
     "shell.execute_reply": "2022-03-23T17:07:46.406706Z"
    },
    "papermill": {
     "duration": 0.038169,
     "end_time": "2022-03-23T17:07:46.410225",
     "exception": false,
     "start_time": "2022-03-23T17:07:46.372056",
     "status": "completed"
    },
    "tags": []
   },
   "outputs": [
    {
     "name": "stdout",
     "output_type": "stream",
     "text": [
      "kinoml_SCHRODINGERComplexFeaturizer_PsaA_4f8o_AEBSF_complex.pdb\n",
      "kinoml_SCHRODINGERComplexFeaturizer_PsaA_4f8o_chainA_altlocB_AEBSF_complex.pdb\n"
     ]
    }
   ],
   "source": [
    "for path in sorted(Path(\"output/complex\").glob(\"*\")):\n",
    "    print(path.name)"
   ]
  },
  {
   "cell_type": "markdown",
   "id": "5e0012c1-1895-47dc-b501-71f4b763477d",
   "metadata": {
    "papermill": {
     "duration": 0.030566,
     "end_time": "2022-03-23T17:07:46.471352",
     "exception": false,
     "start_time": "2022-03-23T17:07:46.440786",
     "status": "completed"
    },
    "tags": []
   },
   "source": [
    "## SCHRODINGERDockingFeaturizer"
   ]
  },
  {
   "cell_type": "markdown",
   "id": "163c82b1-1e07-447d-a1c6-bac356cbe031",
   "metadata": {
    "papermill": {
     "duration": 0.029814,
     "end_time": "2022-03-23T17:07:46.532717",
     "exception": false,
     "start_time": "2022-03-23T17:07:46.502903",
     "status": "completed"
    },
    "tags": []
   },
   "source": [
    "Docking can be performed with and without shape restrain to the co-crystallized ligand. Moreover, the protein structure for docking must contain a co-crystallized ligand, which is required for the pocket definition."
   ]
  },
  {
   "cell_type": "code",
   "execution_count": 10,
   "id": "8528adcf-b340-491d-b5ff-575964bbbfea",
   "metadata": {
    "execution": {
     "iopub.execute_input": "2022-03-23T17:07:46.595088Z",
     "iopub.status.busy": "2022-03-23T17:07:46.594869Z",
     "iopub.status.idle": "2022-03-23T17:07:46.598353Z",
     "shell.execute_reply": "2022-03-23T17:07:46.597866Z"
    },
    "papermill": {
     "duration": 0.037923,
     "end_time": "2022-03-23T17:07:46.601460",
     "exception": false,
     "start_time": "2022-03-23T17:07:46.563537",
     "status": "completed"
    },
    "tags": []
   },
   "outputs": [
    {
     "name": "stdout",
     "output_type": "stream",
     "text": [
      "Given systems with exactly one protein and one ligand, prepare the\n",
      "structure dock the ligand into its binding site identified by a\n",
      "co-crystallized ligand. The following steps will be performed:\n",
      "\n",
      " - modeling missing loops\n",
      " - building missing side chains\n",
      " - mutations, if `uniprot_id` or `sequence` attribute is provided for the\n",
      "   protein component (see below)\n",
      " - removing everything but protein, water and ligand of interest\n",
      " - protonation at pH 7.4\n",
      " - docking a ligand\n",
      "\n",
      "The protein component of each system must be a `core.proteins.Protein` or\n",
      "a subclass thereof, must be initialized with toolkit='MDAnalysis' and give\n",
      "access to the molecular structure, e.g. via a pdb_id. Additionally, the\n",
      "protein component can have the following optional attributes to customize\n",
      "the protein modeling:\n",
      "\n",
      " - `name`: A string specifying the name of the protein, will be used for\n",
      "   generating the output file name.\n",
      " - `chain_id`: A string specifying which chain should be used.\n",
      " - `alternate_location`: A string specifying which alternate location\n",
      "   should be used.\n",
      " - `expo_id`: A string specifying a ligand bound to the protein of\n",
      "   interest. This is especially useful if multiple proteins are found in\n",
      "   one PDB structure.\n",
      " - `uniprot_id`: A string specifying the UniProt ID that will be used to\n",
      "   fetch the amino acid sequence from UniProt, which will be used for\n",
      "   modeling the protein. This will supersede the sequence information\n",
      "   given in the PDB header.\n",
      " - `sequence`: A string specifying the amino acid sequence in\n",
      "   one-letter-codes that should be used during modeling the protein. This\n",
      "   will supersede a given `uniprot_id` and the sequence information given\n",
      "   in the PDB header.\n",
      "\n",
      "The ligand component of each system must be a `core.ligands.Ligand` or a\n",
      "subclass thereof and give access to the molecular structure, e.g. via a\n",
      "SMILES. Additionally, the ligand component can have the following optional\n",
      "attributes:\n",
      "\n",
      " - `name`: A string specifying the name of the ligand, will be used for\n",
      "   generating the output file name and as molecule title in the docking\n",
      "   pose SDF file.\n",
      " - `macrocycle`: A bool specifying if the ligand shell be sampled as a\n",
      "   macrocycle during docking. Docking will fail, if SCHRDODINGER does not\n",
      "   consider the ligand a macrocycle.\n",
      "\n",
      "Parameters\n",
      "----------\n",
      "cache_dir: str, Path or None, default=None\n",
      "    Path to directory used for saving intermediate files. If None, default\n",
      "    location provided by `appdirs.user_cache_dir()` will be used.\n",
      "output_dir: str, Path or None, default=None\n",
      "    Path to directory used for saving output files. If None, output\n",
      "    structures will not be saved.\n",
      "use_multiprocessing : bool, default=True\n",
      "    If multiprocessing to use.\n",
      "n_processes : int or None, default=None\n",
      "    How many processes to use in case of multiprocessing. Defaults to\n",
      "    number of available CPUs.\n",
      "max_retry: int, default=3\n",
      "    The maximal number of attempts to try running the prepwizard and\n",
      "    docking steps.\n",
      "build_loops: bool, default=True\n",
      "    If missing loops shell be built. Is also needed to model mutations.\n",
      "shape_restrain: bool, default=True\n",
      "    If the docking shell be performed with shape restrain based on the\n",
      "    co-crystallized ligand.\n"
     ]
    }
   ],
   "source": [
    "print(inspect.getdoc(SCHRODINGERDockingFeaturizer))"
   ]
  },
  {
   "cell_type": "markdown",
   "id": "3f10336d-6237-480c-a753-7c68bc6e3e2c",
   "metadata": {
    "papermill": {
     "duration": 0.030571,
     "end_time": "2022-03-23T17:07:46.663554",
     "exception": false,
     "start_time": "2022-03-23T17:07:46.632983",
     "status": "completed"
    },
    "tags": []
   },
   "source": [
    "### Without shape restrain"
   ]
  },
  {
   "cell_type": "code",
   "execution_count": 11,
   "id": "25ec8a4c-a609-4810-adcd-9a4af11bf5ff",
   "metadata": {
    "execution": {
     "iopub.execute_input": "2022-03-23T17:07:46.726118Z",
     "iopub.status.busy": "2022-03-23T17:07:46.725900Z",
     "iopub.status.idle": "2022-03-23T17:07:46.728703Z",
     "shell.execute_reply": "2022-03-23T17:07:46.728213Z"
    },
    "papermill": {
     "duration": 0.037091,
     "end_time": "2022-03-23T17:07:46.731088",
     "exception": false,
     "start_time": "2022-03-23T17:07:46.693997",
     "status": "completed"
    },
    "tags": []
   },
   "outputs": [],
   "source": [
    "systems = []"
   ]
  },
  {
   "cell_type": "code",
   "execution_count": 12,
   "id": "20c215d2-dee7-4d85-a97b-85fbbadd4f36",
   "metadata": {
    "execution": {
     "iopub.execute_input": "2022-03-23T17:07:46.794416Z",
     "iopub.status.busy": "2022-03-23T17:07:46.794204Z",
     "iopub.status.idle": "2022-03-23T17:07:46.798073Z",
     "shell.execute_reply": "2022-03-23T17:07:46.797582Z"
    },
    "papermill": {
     "duration": 0.037662,
     "end_time": "2022-03-23T17:07:46.800422",
     "exception": false,
     "start_time": "2022-03-23T17:07:46.762760",
     "status": "completed"
    },
    "tags": []
   },
   "outputs": [],
   "source": [
    "protein = Protein(pdb_id=\"4yne\", uniprot_id=\"P04629\", name=\"NTRK1\", toolkit=\"MDAnalysis\")\n",
    "protein.expo_id = \"4EK\"\n",
    "ligand = Ligand(smiles=\"C1CC(N(C1)C2=NC3=C(C=NN3C=C2)NC(=O)N4CCC(C4)O)C5=C(C=CC(=C5)F)F\", name=\"larotrectinib\")\n",
    "system = ProteinLigandComplex(components=[protein, ligand])\n",
    "systems.append(system)"
   ]
  },
  {
   "cell_type": "code",
   "execution_count": 13,
   "id": "c3294d21-7f6b-4e05-97a1-ecfae31230d7",
   "metadata": {
    "execution": {
     "iopub.execute_input": "2022-03-23T17:07:46.862926Z",
     "iopub.status.busy": "2022-03-23T17:07:46.862674Z",
     "iopub.status.idle": "2022-03-23T17:07:46.866527Z",
     "shell.execute_reply": "2022-03-23T17:07:46.866057Z"
    },
    "papermill": {
     "duration": 0.037366,
     "end_time": "2022-03-23T17:07:46.868545",
     "exception": false,
     "start_time": "2022-03-23T17:07:46.831179",
     "status": "completed"
    },
    "tags": []
   },
   "outputs": [],
   "source": [
    "featurizer = SCHRODINGERDockingFeaturizer(\n",
    "    output_dir=\"output/docking_without_shape_restrain\",\n",
    "    shape_restrain=False\n",
    ")"
   ]
  },
  {
   "cell_type": "code",
   "execution_count": 14,
   "id": "b3e703d3-b47d-4b37-ba7c-7847f5eecdbc",
   "metadata": {
    "execution": {
     "iopub.execute_input": "2022-03-23T17:07:46.931669Z",
     "iopub.status.busy": "2022-03-23T17:07:46.931453Z",
     "iopub.status.idle": "2022-03-23T17:19:04.358857Z",
     "shell.execute_reply": "2022-03-23T17:19:04.358098Z"
    },
    "papermill": {
     "duration": 677.462545,
     "end_time": "2022-03-23T17:19:04.362306",
     "exception": false,
     "start_time": "2022-03-23T17:07:46.899761",
     "status": "completed"
    },
    "tags": []
   },
   "outputs": [
    {
     "name": "stdout",
     "output_type": "stream",
     "text": [
      "JobId: lu07-0-623b5404\n",
      "Removing previous job files...\n",
      "JobId: lu07-0-623b5501\n",
      "ExitStatus: finished\n",
      "Removing previous job files...\n",
      "JobId: lu07-0-623b55be\n",
      "ExitStatus: finished\n",
      "Converted file: /lila/data/chodera/shallerd/projects/schrodinger/kinoml/examples/output/docking_without_shape_restrain/kinoml_SCHRODINGERDockingFeaturizer_NTRK1_4yne_larotrectinib_complex.mae\n"
     ]
    },
    {
     "data": {
      "text/plain": [
       "[<ProteinLigandComplex with 2 components (<Protein name=NTRK1>, <Ligand name=larotrectinib>)>]"
      ]
     },
     "execution_count": 14,
     "metadata": {},
     "output_type": "execute_result"
    }
   ],
   "source": [
    "%%capture --no-display\n",
    "systems = featurizer.featurize(systems)\n",
    "systems"
   ]
  },
  {
   "cell_type": "markdown",
   "id": "092d09db-9220-4b29-9efc-cab0e0210dbc",
   "metadata": {
    "papermill": {
     "duration": 0.055776,
     "end_time": "2022-03-23T17:19:04.488242",
     "exception": false,
     "start_time": "2022-03-23T17:19:04.432466",
     "status": "completed"
    },
    "tags": []
   },
   "source": [
    "Docking scores are stored in the returned MDAnalysis universe."
   ]
  },
  {
   "cell_type": "code",
   "execution_count": 15,
   "id": "9febec67-160a-4ac7-aaeb-a3defb113101",
   "metadata": {
    "execution": {
     "iopub.execute_input": "2022-03-23T17:19:04.611276Z",
     "iopub.status.busy": "2022-03-23T17:19:04.610973Z",
     "iopub.status.idle": "2022-03-23T17:19:04.616597Z",
     "shell.execute_reply": "2022-03-23T17:19:04.615967Z"
    },
    "papermill": {
     "duration": 0.068146,
     "end_time": "2022-03-23T17:19:04.621382",
     "exception": false,
     "start_time": "2022-03-23T17:19:04.553236",
     "status": "completed"
    },
    "tags": []
   },
   "outputs": [
    {
     "data": {
      "text/plain": [
       "-9.82907"
      ]
     },
     "execution_count": 15,
     "metadata": {},
     "output_type": "execute_result"
    }
   ],
   "source": [
    "systems[0].featurizations[\"last\"]._topology.docking_score"
   ]
  },
  {
   "cell_type": "markdown",
   "id": "c3ff444f-289c-4bdc-b342-9beaefb554eb",
   "metadata": {
    "papermill": {
     "duration": 0.057247,
     "end_time": "2022-03-23T17:19:04.735340",
     "exception": false,
     "start_time": "2022-03-23T17:19:04.678093",
     "status": "completed"
    },
    "tags": []
   },
   "source": [
    "If an `output_dir` was provided, the prepared structure is saved in PDB and MAE format, the prepared ligand is additionally saved in SDF format."
   ]
  },
  {
   "cell_type": "code",
   "execution_count": 16,
   "id": "f2147b48-ded0-4cc8-acc1-78f976117b8e",
   "metadata": {
    "execution": {
     "iopub.execute_input": "2022-03-23T17:19:04.853578Z",
     "iopub.status.busy": "2022-03-23T17:19:04.853255Z",
     "iopub.status.idle": "2022-03-23T17:19:04.858895Z",
     "shell.execute_reply": "2022-03-23T17:19:04.858140Z"
    },
    "papermill": {
     "duration": 0.070861,
     "end_time": "2022-03-23T17:19:04.864011",
     "exception": false,
     "start_time": "2022-03-23T17:19:04.793150",
     "status": "completed"
    },
    "tags": []
   },
   "outputs": [
    {
     "name": "stdout",
     "output_type": "stream",
     "text": [
      "kinoml_SCHRODINGERDockingFeaturizer_NTRK1_4yne_larotrectinib_complex.mae\n",
      "kinoml_SCHRODINGERDockingFeaturizer_NTRK1_4yne_larotrectinib_complex.pdb\n",
      "kinoml_SCHRODINGERDockingFeaturizer_NTRK1_4yne_larotrectinib_ligand.sdf\n"
     ]
    }
   ],
   "source": [
    "for path in sorted(Path(\"output/docking_without_shape_restrain\").glob(\"*\")):\n",
    "    print(path.name)"
   ]
  },
  {
   "cell_type": "markdown",
   "id": "fe503149-8950-4319-8d78-3d178fd6f200",
   "metadata": {
    "papermill": {
     "duration": 0.03266,
     "end_time": "2022-03-23T17:19:04.929959",
     "exception": false,
     "start_time": "2022-03-23T17:19:04.897299",
     "status": "completed"
    },
    "tags": []
   },
   "source": [
    "### With shape restrain"
   ]
  },
  {
   "cell_type": "code",
   "execution_count": 17,
   "id": "4e8e8ce9-4b90-43de-9ae7-12bb935bcb20",
   "metadata": {
    "execution": {
     "iopub.execute_input": "2022-03-23T17:19:04.997210Z",
     "iopub.status.busy": "2022-03-23T17:19:04.996994Z",
     "iopub.status.idle": "2022-03-23T17:19:05.000031Z",
     "shell.execute_reply": "2022-03-23T17:19:04.999537Z"
    },
    "papermill": {
     "duration": 0.039179,
     "end_time": "2022-03-23T17:19:05.002349",
     "exception": false,
     "start_time": "2022-03-23T17:19:04.963170",
     "status": "completed"
    },
    "tags": []
   },
   "outputs": [],
   "source": [
    "systems = []"
   ]
  },
  {
   "cell_type": "code",
   "execution_count": 18,
   "id": "53fd6089-158d-4682-a4f6-2b411d1140f9",
   "metadata": {
    "execution": {
     "iopub.execute_input": "2022-03-23T17:19:05.069676Z",
     "iopub.status.busy": "2022-03-23T17:19:05.069462Z",
     "iopub.status.idle": "2022-03-23T17:19:05.073425Z",
     "shell.execute_reply": "2022-03-23T17:19:05.072917Z"
    },
    "papermill": {
     "duration": 0.040838,
     "end_time": "2022-03-23T17:19:05.075990",
     "exception": false,
     "start_time": "2022-03-23T17:19:05.035152",
     "status": "completed"
    },
    "tags": []
   },
   "outputs": [],
   "source": [
    "protein = Protein(pdb_id=\"4yne\", uniprot_id=\"P04629\", name=\"NTRK1\", toolkit=\"MDAnalysis\")\n",
    "protein.expo_id = \"4EK\"\n",
    "ligand = Ligand(smiles=\"C1CC(N(C1)C2=NC3=C(C=NN3C=C2)NC(=O)N4CCC(C4)O)C5=C(C=CC(=C5)F)F\", name=\"larotrectinib\")\n",
    "system = ProteinLigandComplex(components=[protein, ligand])\n",
    "systems.append(system)"
   ]
  },
  {
   "cell_type": "code",
   "execution_count": 19,
   "id": "e81e540e-b6d2-48b7-ae97-ff15dcc8d394",
   "metadata": {
    "execution": {
     "iopub.execute_input": "2022-03-23T17:19:05.143279Z",
     "iopub.status.busy": "2022-03-23T17:19:05.143055Z",
     "iopub.status.idle": "2022-03-23T17:19:05.160331Z",
     "shell.execute_reply": "2022-03-23T17:19:05.159771Z"
    },
    "papermill": {
     "duration": 0.052956,
     "end_time": "2022-03-23T17:19:05.162240",
     "exception": false,
     "start_time": "2022-03-23T17:19:05.109284",
     "status": "completed"
    },
    "tags": []
   },
   "outputs": [],
   "source": [
    "featurizer = SCHRODINGERDockingFeaturizer(\n",
    "    output_dir=\"output/docking_with_shape_restrain\",\n",
    "    shape_restrain=True,\n",
    ")"
   ]
  },
  {
   "cell_type": "code",
   "execution_count": 20,
   "id": "42b85a04-1d97-41af-af7d-9647645cc5c9",
   "metadata": {
    "execution": {
     "iopub.execute_input": "2022-03-23T17:19:05.228637Z",
     "iopub.status.busy": "2022-03-23T17:19:05.228417Z",
     "iopub.status.idle": "2022-03-23T17:21:41.856963Z",
     "shell.execute_reply": "2022-03-23T17:21:41.856406Z"
    },
    "papermill": {
     "duration": 156.663962,
     "end_time": "2022-03-23T17:21:41.858683",
     "exception": false,
     "start_time": "2022-03-23T17:19:05.194721",
     "status": "completed"
    },
    "tags": []
   },
   "outputs": [
    {
     "name": "stdout",
     "output_type": "stream",
     "text": [
      "Removing previous job files...\n",
      "JobId: lu07-0-623b569a\n",
      "ExitStatus: finished\n",
      "Converted file: /lila/data/chodera/shallerd/projects/schrodinger/kinoml/examples/output/docking_with_shape_restrain/kinoml_SCHRODINGERDockingFeaturizer_NTRK1_4yne_larotrectinib_complex.mae\n"
     ]
    },
    {
     "data": {
      "text/plain": [
       "[<ProteinLigandComplex with 2 components (<Protein name=NTRK1>, <Ligand name=larotrectinib>)>]"
      ]
     },
     "execution_count": 20,
     "metadata": {},
     "output_type": "execute_result"
    }
   ],
   "source": [
    "%%capture --no-display\n",
    "systems = featurizer.featurize(systems)\n",
    "systems"
   ]
  },
  {
   "cell_type": "markdown",
   "id": "f12885ea-b91f-473e-882a-08ddcb99d60f",
   "metadata": {
    "papermill": {
     "duration": 0.039145,
     "end_time": "2022-03-23T17:21:41.933693",
     "exception": false,
     "start_time": "2022-03-23T17:21:41.894548",
     "status": "completed"
    },
    "tags": []
   },
   "source": [
    "## MostSimilarPDBLigandFeaturizer\n",
    "\n",
    "Manually specifying the most suitable PDB structure to dock into is not practical for a larger set of ligands. Hence, the `MostSimilarPDBLigandFeaturizer` was implemented, wich can find the most suitable structure for docking in the PDB based on ligand similarity. The user can choose from one the following similarity metrics:\n",
    "\n",
    "- Fingerprint\n",
    "- Most common substructure\n",
    "- OpenEye's shape\n",
    "- Schrodinger's shape"
   ]
  },
  {
   "cell_type": "code",
   "execution_count": 21,
   "id": "9d84eacd-3b8e-49d4-b1f3-c106735a6460",
   "metadata": {
    "execution": {
     "iopub.execute_input": "2022-03-23T17:21:42.011474Z",
     "iopub.status.busy": "2022-03-23T17:21:42.011242Z",
     "iopub.status.idle": "2022-03-23T17:21:42.014763Z",
     "shell.execute_reply": "2022-03-23T17:21:42.014272Z"
    },
    "papermill": {
     "duration": 0.041603,
     "end_time": "2022-03-23T17:21:42.017865",
     "exception": false,
     "start_time": "2022-03-23T17:21:41.976262",
     "status": "completed"
    },
    "tags": []
   },
   "outputs": [
    {
     "name": "stdout",
     "output_type": "stream",
     "text": [
      "Find the most similar co-crystallized ligand in the PDB according to a\n",
      "given SMILES and UniProt ID.\n",
      "\n",
      "The protein component of each system must be a `core.proteins.Protein` or\n",
      "a subclass thereof, and must be initialized with a `uniprot_id` parameter.\n",
      "\n",
      "The ligand component of each system must be a `core.ligands.Ligand` or a\n",
      "subclass thereof and give access to the molecular structure, e.g. via a\n",
      "SMILES.\n",
      "\n",
      "Parameters\n",
      "----------\n",
      "similarity_metric: str, default=\"fingerprint\"\n",
      "    The similarity metric to use to detect the structure with the most\n",
      "    similar ligand [\"fingerprint\", \"mcs\", \"openeye_shape\",\n",
      "    \"schrodinger_shape\"].\n",
      "cache_dir: str, Path or None, default=None\n",
      "    Path to directory used for saving intermediate files. If None, default\n",
      "    location provided by `appdirs.user_cache_dir()` will be used.\n",
      "use_multiprocessing : bool, default=True\n",
      "    If multiprocessing to use.\n",
      "n_processes : int or None, default=None\n",
      "    How many processes to use in case of multiprocessing. Defaults to\n",
      "    number of available CPUs.\n",
      "\n",
      "Note\n",
      "----\n",
      "The toolkit ['MDAnalysis' or 'OpenEye'] specified in the protein object\n",
      "initialization should fit the required toolkit when subsequently applying\n",
      "the OEDockingFeaturizer or SCHRODINGERDockingFeaturizer.\n"
     ]
    }
   ],
   "source": [
    "print(inspect.getdoc(MostSimilarPDBLigandFeaturizer))"
   ]
  },
  {
   "cell_type": "markdown",
   "id": "163bef90-207c-4023-b494-6847af3f4958",
   "metadata": {
    "papermill": {
     "duration": 0.033312,
     "end_time": "2022-03-23T17:21:42.085385",
     "exception": false,
     "start_time": "2022-03-23T17:21:42.052073",
     "status": "completed"
    },
    "tags": []
   },
   "source": [
    "### Most common substructure"
   ]
  },
  {
   "cell_type": "code",
   "execution_count": 22,
   "id": "372d7ea1-324a-4f44-8b8d-3cc3021d2c81",
   "metadata": {
    "execution": {
     "iopub.execute_input": "2022-03-23T17:21:42.154187Z",
     "iopub.status.busy": "2022-03-23T17:21:42.153963Z",
     "iopub.status.idle": "2022-03-23T17:21:42.156804Z",
     "shell.execute_reply": "2022-03-23T17:21:42.156312Z"
    },
    "papermill": {
     "duration": 0.040031,
     "end_time": "2022-03-23T17:21:42.159195",
     "exception": false,
     "start_time": "2022-03-23T17:21:42.119164",
     "status": "completed"
    },
    "tags": []
   },
   "outputs": [],
   "source": [
    "systems = []"
   ]
  },
  {
   "cell_type": "code",
   "execution_count": 23,
   "id": "83002b9e-0eb8-4f39-8d55-2cbb3b55d7a4",
   "metadata": {
    "execution": {
     "iopub.execute_input": "2022-03-23T17:21:42.228515Z",
     "iopub.status.busy": "2022-03-23T17:21:42.228297Z",
     "iopub.status.idle": "2022-03-23T17:21:42.231976Z",
     "shell.execute_reply": "2022-03-23T17:21:42.231481Z"
    },
    "papermill": {
     "duration": 0.041301,
     "end_time": "2022-03-23T17:21:42.234343",
     "exception": false,
     "start_time": "2022-03-23T17:21:42.193042",
     "status": "completed"
    },
    "tags": []
   },
   "outputs": [],
   "source": [
    "protein = Protein(uniprot_id=\"P04629\", name=\"NTRK1\", toolkit=\"MDAnalysis\")\n",
    "ligand = Ligand(smiles=\"C1CC(N(C1)C2=NC3=C(C=NN3C=C2)NC(=O)N4CCC(C4)O)C5=C(C=CC(=C5)F)F\", name=\"larotrectinib\")\n",
    "system = ProteinLigandComplex(components=[protein, ligand])\n",
    "systems.append(system)"
   ]
  },
  {
   "cell_type": "code",
   "execution_count": 24,
   "id": "cac30a83-1546-4abd-9186-d951a2d52a8c",
   "metadata": {
    "execution": {
     "iopub.execute_input": "2022-03-23T17:21:42.303552Z",
     "iopub.status.busy": "2022-03-23T17:21:42.303337Z",
     "iopub.status.idle": "2022-03-23T17:21:42.306518Z",
     "shell.execute_reply": "2022-03-23T17:21:42.306024Z"
    },
    "papermill": {
     "duration": 0.040754,
     "end_time": "2022-03-23T17:21:42.309005",
     "exception": false,
     "start_time": "2022-03-23T17:21:42.268251",
     "status": "completed"
    },
    "tags": []
   },
   "outputs": [],
   "source": [
    "featurizer = MostSimilarPDBLigandFeaturizer(similarity_metric=\"mcs\")"
   ]
  },
  {
   "cell_type": "code",
   "execution_count": 25,
   "id": "edcd8461-6b23-4e39-9800-e7755c640a45",
   "metadata": {
    "execution": {
     "iopub.execute_input": "2022-03-23T17:21:42.381691Z",
     "iopub.status.busy": "2022-03-23T17:21:42.381476Z",
     "iopub.status.idle": "2022-03-23T17:21:51.901407Z",
     "shell.execute_reply": "2022-03-23T17:21:51.900857Z"
    },
    "papermill": {
     "duration": 9.557157,
     "end_time": "2022-03-23T17:21:51.903066",
     "exception": false,
     "start_time": "2022-03-23T17:21:42.345909",
     "status": "completed"
    },
    "tags": []
   },
   "outputs": [
    {
     "data": {
      "text/plain": [
       "('4YNE', 'A', '4EK')"
      ]
     },
     "execution_count": 25,
     "metadata": {},
     "output_type": "execute_result"
    },
    {
     "name": "stdout",
     "output_type": "stream",
     "text": [
      "9.51 s ± 0 ns per loop (mean ± std. dev. of 1 run, 1 loop each)\n"
     ]
    }
   ],
   "source": [
    "%%timeit -n 1 -r 1\n",
    "%%capture --no-display\n",
    "systems = featurizer.featurize(systems)\n",
    "systems[0].protein.pdb_id, systems[0].protein.chain_id, systems[0].protein.expo_id"
   ]
  },
  {
   "cell_type": "markdown",
   "id": "be0b03ee-6123-4077-b3fd-586bce4bf748",
   "metadata": {
    "papermill": {
     "duration": 0.034048,
     "end_time": "2022-03-23T17:21:51.974395",
     "exception": false,
     "start_time": "2022-03-23T17:21:51.940347",
     "status": "completed"
    },
    "tags": []
   },
   "source": [
    "### Fingerprint"
   ]
  },
  {
   "cell_type": "code",
   "execution_count": 26,
   "id": "0c7dcbf1-7607-4b5f-8ed4-44f0a00b41e7",
   "metadata": {
    "execution": {
     "iopub.execute_input": "2022-03-23T17:21:52.045464Z",
     "iopub.status.busy": "2022-03-23T17:21:52.045237Z",
     "iopub.status.idle": "2022-03-23T17:21:52.048500Z",
     "shell.execute_reply": "2022-03-23T17:21:52.048011Z"
    },
    "papermill": {
     "duration": 0.041285,
     "end_time": "2022-03-23T17:21:52.050879",
     "exception": false,
     "start_time": "2022-03-23T17:21:52.009594",
     "status": "completed"
    },
    "tags": []
   },
   "outputs": [],
   "source": [
    "featurizer = MostSimilarPDBLigandFeaturizer(similarity_metric=\"fingerprint\")"
   ]
  },
  {
   "cell_type": "code",
   "execution_count": 27,
   "id": "61322085-91dd-47b6-9517-33383a7d5a5c",
   "metadata": {
    "execution": {
     "iopub.execute_input": "2022-03-23T17:21:52.122655Z",
     "iopub.status.busy": "2022-03-23T17:21:52.122432Z",
     "iopub.status.idle": "2022-03-23T17:21:54.873175Z",
     "shell.execute_reply": "2022-03-23T17:21:54.872602Z"
    },
    "papermill": {
     "duration": 2.788371,
     "end_time": "2022-03-23T17:21:54.874687",
     "exception": false,
     "start_time": "2022-03-23T17:21:52.086316",
     "status": "completed"
    },
    "tags": []
   },
   "outputs": [
    {
     "data": {
      "text/plain": [
       "('4YNE', 'A', '4EK')"
      ]
     },
     "execution_count": 27,
     "metadata": {},
     "output_type": "execute_result"
    },
    {
     "name": "stdout",
     "output_type": "stream",
     "text": [
      "2.74 s ± 0 ns per loop (mean ± std. dev. of 1 run, 1 loop each)\n"
     ]
    }
   ],
   "source": [
    "%%timeit -n 1 -r 1\n",
    "%%capture --no-display\n",
    "systems = featurizer.featurize(systems)\n",
    "systems[0].protein.pdb_id, systems[0].protein.chain_id, systems[0].protein.expo_id"
   ]
  },
  {
   "cell_type": "markdown",
   "id": "af8fc96b-3dae-4fcf-bf50-693df0fa9be8",
   "metadata": {
    "papermill": {
     "duration": 0.035003,
     "end_time": "2022-03-23T17:21:54.946480",
     "exception": false,
     "start_time": "2022-03-23T17:21:54.911477",
     "status": "completed"
    },
    "tags": []
   },
   "source": [
    "### Schrodinger's shape"
   ]
  },
  {
   "cell_type": "code",
   "execution_count": 28,
   "id": "f052e537-e0ab-4ba2-9549-40b809ea112f",
   "metadata": {
    "execution": {
     "iopub.execute_input": "2022-03-23T17:21:55.018676Z",
     "iopub.status.busy": "2022-03-23T17:21:55.018446Z",
     "iopub.status.idle": "2022-03-23T17:21:55.021760Z",
     "shell.execute_reply": "2022-03-23T17:21:55.021269Z"
    },
    "papermill": {
     "duration": 0.042488,
     "end_time": "2022-03-23T17:21:55.024192",
     "exception": false,
     "start_time": "2022-03-23T17:21:54.981704",
     "status": "completed"
    },
    "tags": []
   },
   "outputs": [],
   "source": [
    "featurizer = MostSimilarPDBLigandFeaturizer(similarity_metric=\"schrodinger_shape\")"
   ]
  },
  {
   "cell_type": "code",
   "execution_count": 29,
   "id": "350ebff7-9fe2-4f12-9ec1-5cb65b8848d5",
   "metadata": {
    "execution": {
     "iopub.execute_input": "2022-03-23T17:21:55.096832Z",
     "iopub.status.busy": "2022-03-23T17:21:55.096617Z",
     "iopub.status.idle": "2022-03-23T17:22:20.752463Z",
     "shell.execute_reply": "2022-03-23T17:22:20.750557Z"
    },
    "papermill": {
     "duration": 25.693934,
     "end_time": "2022-03-23T17:22:20.754161",
     "exception": false,
     "start_time": "2022-03-23T17:21:55.060227",
     "status": "completed"
    },
    "tags": []
   },
   "outputs": [
    {
     "name": "stderr",
     "output_type": "stream",
     "text": [
      "perl: warning: Setting locale failed.\n",
      "perl: warning: Please check that your locale settings:\n",
      "\tLANGUAGE = (unset),\n",
      "\tLC_ALL = (unset),\n",
      "\tLC_NUMERIC = \"C\",\n",
      "\tLC_TIME = \"C\",\n",
      "\tLANG = \"C.UTF-8\"\n",
      "    are supported and installed on your system.\n",
      "perl: warning: Falling back to the standard locale (\"C\").\n"
     ]
    },
    {
     "name": "stdout",
     "output_type": "stream",
     "text": [
      "JobId: lu07-0-623b5737\n"
     ]
    },
    {
     "data": {
      "text/plain": [
       "('4YPS', 'A', '4F6')"
      ]
     },
     "execution_count": 29,
     "metadata": {},
     "output_type": "execute_result"
    },
    {
     "name": "stdout",
     "output_type": "stream",
     "text": [
      "25.6 s ± 0 ns per loop (mean ± std. dev. of 1 run, 1 loop each)\n"
     ]
    }
   ],
   "source": [
    "%%timeit -n 1 -r 1\n",
    "%%capture --no-display\n",
    "systems = featurizer.featurize(systems)\n",
    "systems[0].protein.pdb_id, systems[0].protein.chain_id, systems[0].protein.expo_id"
   ]
  },
  {
   "cell_type": "markdown",
   "id": "8a071c6c-0ac7-4ddd-8222-2dc286422504",
   "metadata": {
    "papermill": {
     "duration": 0.036227,
     "end_time": "2022-03-23T17:22:20.829592",
     "exception": false,
     "start_time": "2022-03-23T17:22:20.793365",
     "status": "completed"
    },
    "tags": []
   },
   "source": [
    "Using shape is the slowest option, but in many cases the most accurate one."
   ]
  },
  {
   "cell_type": "markdown",
   "id": "6d6e7776-604e-4072-bffd-89aaef4bd034",
   "metadata": {
    "papermill": {
     "duration": 0.036164,
     "end_time": "2022-03-23T17:22:20.901505",
     "exception": false,
     "start_time": "2022-03-23T17:22:20.865341",
     "status": "completed"
    },
    "tags": []
   },
   "source": [
    "### Pipeline of MostSimilarPDBLigandFeaturizer and SCHRODINGERDockingFeaturizer\n",
    "\n",
    "The `MostSimilarPDBLigandFeaturizer` can be joined with the `SCHRODINGERDockingFeaturizer` into a `Pipeline` featurizer."
   ]
  },
  {
   "cell_type": "code",
   "execution_count": 30,
   "id": "836af6ba-0207-43ed-890d-e2f863dce352",
   "metadata": {
    "execution": {
     "iopub.execute_input": "2022-03-23T17:22:20.975636Z",
     "iopub.status.busy": "2022-03-23T17:22:20.975409Z",
     "iopub.status.idle": "2022-03-23T17:22:20.978346Z",
     "shell.execute_reply": "2022-03-23T17:22:20.977868Z"
    },
    "papermill": {
     "duration": 0.042688,
     "end_time": "2022-03-23T17:22:20.980769",
     "exception": false,
     "start_time": "2022-03-23T17:22:20.938081",
     "status": "completed"
    },
    "tags": []
   },
   "outputs": [],
   "source": [
    "systems = []"
   ]
  },
  {
   "cell_type": "code",
   "execution_count": 31,
   "id": "ffc06935-e0ae-4a73-bf7d-4ff0669eebe9",
   "metadata": {
    "execution": {
     "iopub.execute_input": "2022-03-23T17:22:21.054574Z",
     "iopub.status.busy": "2022-03-23T17:22:21.054357Z",
     "iopub.status.idle": "2022-03-23T17:22:21.058080Z",
     "shell.execute_reply": "2022-03-23T17:22:21.057591Z"
    },
    "papermill": {
     "duration": 0.043544,
     "end_time": "2022-03-23T17:22:21.060498",
     "exception": false,
     "start_time": "2022-03-23T17:22:21.016954",
     "status": "completed"
    },
    "tags": []
   },
   "outputs": [],
   "source": [
    "protein = Protein(uniprot_id=\"P04629\", name=\"NTRK1\", toolkit=\"MDAnalysis\")\n",
    "ligand = Ligand(smiles=\"C1CC(N(C1)C2=NC3=C(C=NN3C=C2)NC(=O)N4CCC(C4)O)C5=C(C=CC(=C5)F)F\", name=\"larotrectinib\")\n",
    "system = ProteinLigandComplex(components=[protein, ligand])\n",
    "systems.append(system)"
   ]
  },
  {
   "cell_type": "code",
   "execution_count": 32,
   "id": "aad92cea-d047-40e3-b194-92c3130a3223",
   "metadata": {
    "execution": {
     "iopub.execute_input": "2022-03-23T17:22:21.135183Z",
     "iopub.status.busy": "2022-03-23T17:22:21.134966Z",
     "iopub.status.idle": "2022-03-23T17:22:21.139034Z",
     "shell.execute_reply": "2022-03-23T17:22:21.138547Z"
    },
    "papermill": {
     "duration": 0.043502,
     "end_time": "2022-03-23T17:22:21.141147",
     "exception": false,
     "start_time": "2022-03-23T17:22:21.097645",
     "status": "completed"
    },
    "tags": []
   },
   "outputs": [],
   "source": [
    "featurizer = Pipeline([\n",
    "    MostSimilarPDBLigandFeaturizer(similarity_metric=\"fingerprint\"),\n",
    "    SCHRODINGERDockingFeaturizer(output_dir=\"output/docking_pipeline\"),\n",
    "])"
   ]
  },
  {
   "cell_type": "code",
   "execution_count": 33,
   "id": "6b2776cb-774d-4255-b299-7c56ccec611a",
   "metadata": {
    "execution": {
     "iopub.execute_input": "2022-03-23T17:22:21.214936Z",
     "iopub.status.busy": "2022-03-23T17:22:21.214686Z",
     "iopub.status.idle": "2022-03-23T17:25:01.796004Z",
     "shell.execute_reply": "2022-03-23T17:25:01.793397Z"
    },
    "papermill": {
     "duration": 160.62109,
     "end_time": "2022-03-23T17:25:01.798357",
     "exception": false,
     "start_time": "2022-03-23T17:22:21.177267",
     "status": "completed"
    },
    "tags": []
   },
   "outputs": [
    {
     "name": "stdout",
     "output_type": "stream",
     "text": [
      "Removing previous job files...\n",
      "JobId: lu07-0-623b5760\n",
      "ExitStatus: finished\n",
      "Converted file: /lila/data/chodera/shallerd/projects/schrodinger/kinoml/examples/output/docking_pipeline/kinoml_SCHRODINGERDockingFeaturizer_NTRK1_4YNE_chainA_larotrectinib_complex.mae\n"
     ]
    },
    {
     "data": {
      "text/plain": [
       "[<ProteinLigandComplex with 2 components (<Protein name=NTRK1>, <Ligand name=larotrectinib>)>]"
      ]
     },
     "execution_count": 33,
     "metadata": {},
     "output_type": "execute_result"
    }
   ],
   "source": [
    "%%capture --no-display\n",
    "systems = featurizer.featurize(systems)\n",
    "systems"
   ]
  },
  {
   "cell_type": "code",
   "execution_count": 34,
   "id": "36b3c973-9931-4442-945b-e339dab3f1c6",
   "metadata": {
    "execution": {
     "iopub.execute_input": "2022-03-23T17:25:01.942599Z",
     "iopub.status.busy": "2022-03-23T17:25:01.942284Z",
     "iopub.status.idle": "2022-03-23T17:25:01.948312Z",
     "shell.execute_reply": "2022-03-23T17:25:01.947623Z"
    },
    "papermill": {
     "duration": 0.081074,
     "end_time": "2022-03-23T17:25:01.953279",
     "exception": false,
     "start_time": "2022-03-23T17:25:01.872205",
     "status": "completed"
    },
    "tags": []
   },
   "outputs": [
    {
     "data": {
      "text/plain": [
       "{'last': <Universe with 4967 atoms>,\n",
       " 'Pipeline([MostSimilarPDBLigandFeaturizer, SCHRODINGERDockingFeaturizer])': <Universe with 4967 atoms>}"
      ]
     },
     "execution_count": 34,
     "metadata": {},
     "output_type": "execute_result"
    }
   ],
   "source": [
    "systems[0].featurizations"
   ]
  },
  {
   "cell_type": "markdown",
   "id": "77db9232-360d-40ee-8b2f-640eaf6bdc1a",
   "metadata": {
    "papermill": {
     "duration": 0.068256,
     "end_time": "2022-03-23T17:25:02.091870",
     "exception": false,
     "start_time": "2022-03-23T17:25:02.023614",
     "status": "completed"
    },
    "tags": []
   },
   "source": [
    "## KLIFSConformationTemplatesFeaturizer\n",
    "\n",
    "The `KLIFSConformationTemplatesFeaturizer` searches for suitable templates to model a kinase:ligand complex in different conformations. The templates are selected based on ligand and sequence similarity."
   ]
  },
  {
   "cell_type": "code",
   "execution_count": 35,
   "id": "f680e950-d0e2-43ce-9bad-2da70a94bde5",
   "metadata": {
    "execution": {
     "iopub.execute_input": "2022-03-23T17:25:02.229950Z",
     "iopub.status.busy": "2022-03-23T17:25:02.229645Z",
     "iopub.status.idle": "2022-03-23T17:25:02.234235Z",
     "shell.execute_reply": "2022-03-23T17:25:02.233552Z"
    },
    "papermill": {
     "duration": 0.07703,
     "end_time": "2022-03-23T17:25:02.238957",
     "exception": false,
     "start_time": "2022-03-23T17:25:02.161927",
     "status": "completed"
    },
    "tags": []
   },
   "outputs": [
    {
     "name": "stdout",
     "output_type": "stream",
     "text": [
      "Find suitable kinase templates for modeling a kinase:inhibitor complex in\n",
      "different KLIFS conformations.\n",
      "\n",
      "The protein component of each system must be a `core.proteins.KLIFSKinase`,\n",
      "and must be initialized with a `uniprot_id` or `kinase_klifs_id` parameter.\n",
      "\n",
      "The ligand component of each system must be a `core.ligands.Ligand` or a\n",
      "subclass thereof and give access to the molecular structure, e.g. via a\n",
      "SMILES.\n",
      "\n",
      "Parameters\n",
      "----------\n",
      "similarity_metric: str, default=\"fingerprint\"\n",
      "    The similarity metric to use to detect the structures with similar\n",
      "    ligands [\"fingerprint\", \"mcs\", \"openeye_shape\", \"schrodinger_shape\"].\n",
      "cache_dir: str, Path or None, default=None\n",
      "    Path to directory used for saving intermediate files. If None, default\n",
      "    location provided by `appdirs.user_cache_dir()` will be used.\n",
      "use_multiprocessing : bool, default=True\n",
      "    If multiprocessing to use.\n",
      "n_processes : int or None, default=None\n",
      "    How many processes to use in case of multiprocessing. Defaults to\n",
      "    number of available CPUs.\n"
     ]
    }
   ],
   "source": [
    "print(inspect.getdoc(KLIFSConformationTemplatesFeaturizer))"
   ]
  },
  {
   "cell_type": "code",
   "execution_count": 36,
   "id": "e14082da-b8f1-477a-8bcd-810936e07e72",
   "metadata": {
    "execution": {
     "iopub.execute_input": "2022-03-23T17:25:02.380187Z",
     "iopub.status.busy": "2022-03-23T17:25:02.379881Z",
     "iopub.status.idle": "2022-03-23T17:25:02.383721Z",
     "shell.execute_reply": "2022-03-23T17:25:02.383009Z"
    },
    "papermill": {
     "duration": 0.078109,
     "end_time": "2022-03-23T17:25:02.387582",
     "exception": false,
     "start_time": "2022-03-23T17:25:02.309473",
     "status": "completed"
    },
    "tags": []
   },
   "outputs": [],
   "source": [
    "systems = []"
   ]
  },
  {
   "cell_type": "code",
   "execution_count": 37,
   "id": "f558ef87-b33e-4bd1-a474-b13e90e69195",
   "metadata": {
    "execution": {
     "iopub.execute_input": "2022-03-23T17:25:02.528991Z",
     "iopub.status.busy": "2022-03-23T17:25:02.528682Z",
     "iopub.status.idle": "2022-03-23T17:25:02.533975Z",
     "shell.execute_reply": "2022-03-23T17:25:02.533271Z"
    },
    "papermill": {
     "duration": 0.079814,
     "end_time": "2022-03-23T17:25:02.537819",
     "exception": false,
     "start_time": "2022-03-23T17:25:02.458005",
     "status": "completed"
    },
    "tags": []
   },
   "outputs": [],
   "source": [
    "protein = KLIFSKinase(uniprot_id=\"P04629\", name=\"NTRK1\")\n",
    "ligand = Ligand(smiles=\"C1CC(N(C1)C2=NC3=C(C=NN3C=C2)NC(=O)N4CCC(C4)O)C5=C(C=CC(=C5)F)F\", name=\"larotrectinib\")\n",
    "system = ProteinLigandComplex(components=[protein, ligand])\n",
    "systems.append(system)"
   ]
  },
  {
   "cell_type": "code",
   "execution_count": 38,
   "id": "b7fcc40c-b3f3-4451-9f8d-501f27328f32",
   "metadata": {
    "execution": {
     "iopub.execute_input": "2022-03-23T17:25:02.676476Z",
     "iopub.status.busy": "2022-03-23T17:25:02.676163Z",
     "iopub.status.idle": "2022-03-23T17:25:02.680466Z",
     "shell.execute_reply": "2022-03-23T17:25:02.679747Z"
    },
    "papermill": {
     "duration": 0.077238,
     "end_time": "2022-03-23T17:25:02.684318",
     "exception": false,
     "start_time": "2022-03-23T17:25:02.607080",
     "status": "completed"
    },
    "tags": []
   },
   "outputs": [],
   "source": [
    "featurizer = KLIFSConformationTemplatesFeaturizer(\n",
    "    similarity_metric=\"fingerprint\"\n",
    ")"
   ]
  },
  {
   "cell_type": "code",
   "execution_count": 39,
   "id": "7a7489c6-d564-4285-b5d6-b8cb510d68f3",
   "metadata": {
    "execution": {
     "iopub.execute_input": "2022-03-23T17:25:02.830163Z",
     "iopub.status.busy": "2022-03-23T17:25:02.829858Z",
     "iopub.status.idle": "2022-03-23T17:28:27.325543Z",
     "shell.execute_reply": "2022-03-23T17:28:27.324899Z"
    },
    "papermill": {
     "duration": 204.596796,
     "end_time": "2022-03-23T17:28:27.351969",
     "exception": false,
     "start_time": "2022-03-23T17:25:02.755173",
     "status": "completed"
    },
    "tags": []
   },
   "outputs": [
    {
     "data": {
      "text/plain": [
       "[<ProteinLigandComplex with 2 components (<KLIFSKinase name=NTRK1>, <Ligand name=larotrectinib>)>]"
      ]
     },
     "execution_count": 39,
     "metadata": {},
     "output_type": "execute_result"
    }
   ],
   "source": [
    "%%capture --no-display\n",
    "systems = featurizer.featurize(systems)\n",
    "systems"
   ]
  },
  {
   "cell_type": "code",
   "execution_count": 40,
   "id": "ed84f951-689a-4d8d-b2b9-c5eda645f624",
   "metadata": {
    "execution": {
     "iopub.execute_input": "2022-03-23T17:28:27.436260Z",
     "iopub.status.busy": "2022-03-23T17:28:27.436034Z",
     "iopub.status.idle": "2022-03-23T17:28:27.471368Z",
     "shell.execute_reply": "2022-03-23T17:28:27.470843Z"
    },
    "papermill": {
     "duration": 0.075965,
     "end_time": "2022-03-23T17:28:27.472998",
     "exception": false,
     "start_time": "2022-03-23T17:28:27.397033",
     "status": "completed"
    },
    "tags": []
   },
   "outputs": [
    {
     "data": {
      "text/html": [
       "<div>\n",
       "<style scoped>\n",
       "    .dataframe tbody tr th:only-of-type {\n",
       "        vertical-align: middle;\n",
       "    }\n",
       "\n",
       "    .dataframe tbody tr th {\n",
       "        vertical-align: top;\n",
       "    }\n",
       "\n",
       "    .dataframe thead th {\n",
       "        text-align: right;\n",
       "    }\n",
       "</style>\n",
       "<table border=\"1\" class=\"dataframe\">\n",
       "  <thead>\n",
       "    <tr style=\"text-align: right;\">\n",
       "      <th></th>\n",
       "      <th>dfg</th>\n",
       "      <th>ac_helix</th>\n",
       "      <th>pdb_id</th>\n",
       "      <th>chain_id</th>\n",
       "      <th>expo_id</th>\n",
       "      <th>ligand_similarity</th>\n",
       "      <th>pocket_similarity</th>\n",
       "    </tr>\n",
       "  </thead>\n",
       "  <tbody>\n",
       "    <tr>\n",
       "      <th>0</th>\n",
       "      <td>in</td>\n",
       "      <td>in</td>\n",
       "      <td>4yne</td>\n",
       "      <td>A</td>\n",
       "      <td>4EK</td>\n",
       "      <td>0.568047</td>\n",
       "      <td>443.0</td>\n",
       "    </tr>\n",
       "    <tr>\n",
       "      <th>1</th>\n",
       "      <td>in</td>\n",
       "      <td>out</td>\n",
       "      <td>6tfp</td>\n",
       "      <td>A</td>\n",
       "      <td>N6Z</td>\n",
       "      <td>0.534031</td>\n",
       "      <td>215.0</td>\n",
       "    </tr>\n",
       "    <tr>\n",
       "      <th>2</th>\n",
       "      <td>out</td>\n",
       "      <td>in</td>\n",
       "      <td>4pmp</td>\n",
       "      <td>A</td>\n",
       "      <td>31W</td>\n",
       "      <td>0.482759</td>\n",
       "      <td>443.0</td>\n",
       "    </tr>\n",
       "    <tr>\n",
       "      <th>3</th>\n",
       "      <td>out-like</td>\n",
       "      <td>in</td>\n",
       "      <td>6brj</td>\n",
       "      <td>A</td>\n",
       "      <td>VX6</td>\n",
       "      <td>0.521739</td>\n",
       "      <td>279.0</td>\n",
       "    </tr>\n",
       "    <tr>\n",
       "      <th>4</th>\n",
       "      <td>out-like</td>\n",
       "      <td>out</td>\n",
       "      <td>3aqv</td>\n",
       "      <td>A</td>\n",
       "      <td>TAK</td>\n",
       "      <td>0.435754</td>\n",
       "      <td>171.0</td>\n",
       "    </tr>\n",
       "    <tr>\n",
       "      <th>5</th>\n",
       "      <td>out</td>\n",
       "      <td>out</td>\n",
       "      <td>5jfv</td>\n",
       "      <td>A</td>\n",
       "      <td>6K1</td>\n",
       "      <td>0.491620</td>\n",
       "      <td>422.0</td>\n",
       "    </tr>\n",
       "  </tbody>\n",
       "</table>\n",
       "</div>"
      ],
      "text/plain": [
       "        dfg ac_helix pdb_id chain_id expo_id  ligand_similarity  \\\n",
       "0        in       in   4yne        A     4EK           0.568047   \n",
       "1        in      out   6tfp        A     N6Z           0.534031   \n",
       "2       out       in   4pmp        A     31W           0.482759   \n",
       "3  out-like       in   6brj        A     VX6           0.521739   \n",
       "4  out-like      out   3aqv        A     TAK           0.435754   \n",
       "5       out      out   5jfv        A     6K1           0.491620   \n",
       "\n",
       "   pocket_similarity  \n",
       "0              443.0  \n",
       "1              215.0  \n",
       "2              443.0  \n",
       "3              279.0  \n",
       "4              171.0  \n",
       "5              422.0  "
      ]
     },
     "execution_count": 40,
     "metadata": {},
     "output_type": "execute_result"
    }
   ],
   "source": [
    "systems[0].featurizations[\"last\"]"
   ]
  }
 ],
 "metadata": {
  "kernelspec": {
   "display_name": "Python 3 (ipykernel)",
   "language": "python",
   "name": "python3"
  },
  "language_info": {
   "codemirror_mode": {
    "name": "ipython",
    "version": 3
   },
   "file_extension": ".py",
   "mimetype": "text/x-python",
   "name": "python",
   "nbconvert_exporter": "python",
   "pygments_lexer": "ipython3",
   "version": "3.9.10"
  },
  "papermill": {
   "default_parameters": {},
   "duration": 1764.542649,
   "end_time": "2022-03-23T17:28:30.176534",
   "environment_variables": {},
   "exception": null,
   "input_path": "Schrodinger_structural_featurizer.ipynb",
   "output_path": "Schrodinger_structural_featurizer_out.ipynb",
   "parameters": {},
   "start_time": "2022-03-23T16:59:05.633885",
   "version": "2.2.2"
  }
 },
 "nbformat": 4,
 "nbformat_minor": 5
}
