{
 "cells": [
  {
   "cell_type": "markdown",
   "id": "39823951-54dc-4651-bd95-e9116badf2d6",
   "metadata": {
    "papermill": {
     "duration": 0.045528,
     "end_time": "2022-03-22T07:48:07.977469",
     "exception": false,
     "start_time": "2022-03-22T07:48:07.931941",
     "status": "completed"
    },
    "tags": []
   },
   "source": [
    "# Schrodinger Structural Featurizer"
   ]
  },
  {
   "cell_type": "markdown",
   "id": "37b59918-0cad-4211-aa6a-d43a36f055a2",
   "metadata": {
    "papermill": {
     "duration": 0.029082,
     "end_time": "2022-03-22T07:48:08.041110",
     "exception": false,
     "start_time": "2022-03-22T07:48:08.012028",
     "status": "completed"
    },
    "tags": []
   },
   "source": [
    "This notebook introduces structural modeling featurizers using molecular modeling capabilities from the [Schrodinger Suite](https://www.schrodinger.com/) to prepare protein structures and to dock small molecules into their binding sites."
   ]
  },
  {
   "cell_type": "code",
   "execution_count": 1,
   "id": "ba3e7292-700b-424f-b382-73efb82b3ffd",
   "metadata": {
    "execution": {
     "iopub.execute_input": "2022-03-22T07:48:08.095357Z",
     "iopub.status.busy": "2022-03-22T07:48:08.095056Z",
     "iopub.status.idle": "2022-03-22T07:48:19.673564Z",
     "shell.execute_reply": "2022-03-22T07:48:19.672359Z"
    },
    "papermill": {
     "duration": 11.609286,
     "end_time": "2022-03-22T07:48:19.676896",
     "exception": false,
     "start_time": "2022-03-22T07:48:08.067610",
     "status": "completed"
    },
    "tags": []
   },
   "outputs": [],
   "source": [
    "%%capture --no-display\n",
    "from importlib import resources\n",
    "import inspect\n",
    "from pathlib import Path\n",
    "\n",
    "from appdirs import user_cache_dir\n",
    "\n",
    "from kinoml.core.ligands import Ligand\n",
    "from kinoml.core.proteins import Protein\n",
    "from kinoml.core.systems import ProteinLigandComplex\n",
    "from kinoml.features.core import Pipeline\n",
    "from kinoml.features.complexes import (\n",
    "    MostSimilarPDBLigandFeaturizer, \n",
    "    SCHRODINGERComplexFeaturizer, \n",
    "    SCHRODINGERDockingFeaturizer,\n",
    ")"
   ]
  },
  {
   "cell_type": "markdown",
   "id": "b00d8b82-329d-4a6b-9fd2-54a5671533a9",
   "metadata": {
    "papermill": {
     "duration": 0.030981,
     "end_time": "2022-03-22T07:48:19.747585",
     "exception": false,
     "start_time": "2022-03-22T07:48:19.716604",
     "status": "completed"
    },
    "tags": []
   },
   "source": [
    "## SCHRODINGERComplexFeaturizer"
   ]
  },
  {
   "cell_type": "markdown",
   "id": "684afa3d-3f34-4cbe-ad12-8a089a526940",
   "metadata": {
    "papermill": {
     "duration": 0.02562,
     "end_time": "2022-03-22T07:48:19.800944",
     "exception": false,
     "start_time": "2022-03-22T07:48:19.775324",
     "status": "completed"
    },
    "tags": []
   },
   "source": [
    "All Schrodinger Featurizers come with an extensive doc string explaining the capabilities and requirements."
   ]
  },
  {
   "cell_type": "code",
   "execution_count": 2,
   "id": "8260c926-b2ad-4700-bb50-4056c2aa63ad",
   "metadata": {
    "execution": {
     "iopub.execute_input": "2022-03-22T07:48:19.855037Z",
     "iopub.status.busy": "2022-03-22T07:48:19.854771Z",
     "iopub.status.idle": "2022-03-22T07:48:19.859058Z",
     "shell.execute_reply": "2022-03-22T07:48:19.858490Z"
    },
    "papermill": {
     "duration": 0.035228,
     "end_time": "2022-03-22T07:48:19.862778",
     "exception": false,
     "start_time": "2022-03-22T07:48:19.827550",
     "status": "completed"
    },
    "tags": []
   },
   "outputs": [
    {
     "name": "stdout",
     "output_type": "stream",
     "text": [
      "Given systems with exactly one protein and one ligand, prepare the complex\n",
      "structure by:\n",
      "\n",
      " - modeling missing loops\n",
      " - building missing side chains\n",
      " - mutations, if `uniprot_id` or `sequence` attribute is provided for the\n",
      "   protein component\n",
      "   (see below)\n",
      " - removing everything but protein, water and ligand of interest\n",
      " - protonation at pH 7.4\n",
      "\n",
      "The protein component of each system must be a `core.proteins.Protein` or\n",
      "a subclass thereof, must be initialized with toolkit='MDAnalysis' and give\n",
      "access to the molecular structure, e.g. via a pdb_id. Additionally, the\n",
      "protein component can have the following optional attributes to customize\n",
      "the protein modeling:\n",
      "\n",
      " - `name`: A string specifying the name of the protein, will be used for\n",
      "   generating the output file name.\n",
      " - `chain_id`: A string specifying which chain should be used.\n",
      " - `alternate_location`: A string specifying which alternate location\n",
      "   should be used.\n",
      " - `expo_id`: A string specifying the ligand of interest. This is\n",
      "   especially useful if multiple ligands are present in a PDB structure.\n",
      " - `uniprot_id`: A string specifying the UniProt ID that will be used to\n",
      "   fetch the amino acid sequence from UniProt, which will be used for\n",
      "   modeling the protein. This will supersede the sequence information\n",
      "   given in the PDB header.\n",
      " - `sequence`: A string specifying the amino acid sequence in\n",
      "   one-letter-codes that should be used during modeling the protein. This\n",
      "   will supersede a given `uniprot_id` and the sequence information given\n",
      "   in the PDB header.\n",
      "\n",
      "The ligand component of each system must be a `core.components.BaseLigand`\n",
      "or a subclass thereof. The ligand component can have the following\n",
      "optional attributes:\n",
      "\n",
      " - `name`: A string specifying the name of the ligand, will be used for\n",
      "   generating the output file name.\n",
      "\n",
      "Parameters\n",
      "----------\n",
      "cache_dir: str, Path or None, default=None\n",
      "    Path to directory used for saving intermediate files. If None, default\n",
      "    location provided by `appdirs.user_cache_dir()` will be used.\n",
      "output_dir: str, Path or None, default=None\n",
      "    Path to directory used for saving output files. If None, output\n",
      "    structures will not be saved.\n",
      "use_multiprocessing : bool, default=True\n",
      "    If multiprocessing to use.\n",
      "n_processes : int or None, default=None\n",
      "    How many processes to use in case of multiprocessing. Defaults to\n",
      "    number of available CPUs.\n",
      "max_retry: int, default=3\n",
      "    The maximal number of attempts to try running the prepwizard step.\n",
      "build_loops: bool, default=True\n",
      "    If missing loops shell be built. Is also needed to model mutations.\n"
     ]
    }
   ],
   "source": [
    "print(inspect.getdoc(SCHRODINGERComplexFeaturizer))"
   ]
  },
  {
   "cell_type": "markdown",
   "id": "11cc845a-cc1d-4f68-a5ef-0f634352dd2e",
   "metadata": {
    "papermill": {
     "duration": 0.026327,
     "end_time": "2022-03-22T07:48:19.915723",
     "exception": false,
     "start_time": "2022-03-22T07:48:19.889396",
     "status": "completed"
    },
    "tags": []
   },
   "source": [
    "In general these featurizers will work with a minimal amount of information, e.g. just a PDB ID. However, it is recommended to be explicit as possible when defining the systems to featurize. For example, if a given PDB entry has multiple chains and ligands, the featurizer will have to guess which chain and ligand is of interest if not explicitly stated."
   ]
  },
  {
   "cell_type": "code",
   "execution_count": 3,
   "id": "f39650b8-ca2f-4791-939c-4ac4ae6a6af4",
   "metadata": {
    "execution": {
     "iopub.execute_input": "2022-03-22T07:48:19.971164Z",
     "iopub.status.busy": "2022-03-22T07:48:19.970890Z",
     "iopub.status.idle": "2022-03-22T07:48:19.974036Z",
     "shell.execute_reply": "2022-03-22T07:48:19.973465Z"
    },
    "papermill": {
     "duration": 0.033804,
     "end_time": "2022-03-22T07:48:19.976889",
     "exception": false,
     "start_time": "2022-03-22T07:48:19.943085",
     "status": "completed"
    },
    "tags": []
   },
   "outputs": [],
   "source": [
    "# collect systems to featurize, i.e. prepare the protein structure\n",
    "systems = []"
   ]
  },
  {
   "cell_type": "code",
   "execution_count": 4,
   "id": "1983dcc6-8234-46f3-8ee4-e165576f71e1",
   "metadata": {
    "execution": {
     "iopub.execute_input": "2022-03-22T07:48:20.032177Z",
     "iopub.status.busy": "2022-03-22T07:48:20.031909Z",
     "iopub.status.idle": "2022-03-22T07:48:20.036210Z",
     "shell.execute_reply": "2022-03-22T07:48:20.035624Z"
    },
    "papermill": {
     "duration": 0.035509,
     "end_time": "2022-03-22T07:48:20.039119",
     "exception": false,
     "start_time": "2022-03-22T07:48:20.003610",
     "status": "completed"
    },
    "tags": []
   },
   "outputs": [],
   "source": [
    "# unspecifc definition of the system, only via PDB ID\n",
    "# modeling will be performed according to the sequence stored in the PDB Header\n",
    "protein = Protein(pdb_id=\"4f8o\", name=\"PsaA\", toolkit=\"MDAnalysis\")\n",
    "ligand = Ligand(name=\"AEBSF\")\n",
    "system = ProteinLigandComplex(components=[protein, ligand])\n",
    "systems.append(system)"
   ]
  },
  {
   "cell_type": "code",
   "execution_count": 5,
   "id": "cee7ded4-954c-4d0d-8dd5-11c8db2de4d8",
   "metadata": {
    "execution": {
     "iopub.execute_input": "2022-03-22T07:48:20.095894Z",
     "iopub.status.busy": "2022-03-22T07:48:20.095653Z",
     "iopub.status.idle": "2022-03-22T07:48:25.414177Z",
     "shell.execute_reply": "2022-03-22T07:48:25.413391Z"
    },
    "papermill": {
     "duration": 5.348653,
     "end_time": "2022-03-22T07:48:25.416086",
     "exception": false,
     "start_time": "2022-03-22T07:48:20.067433",
     "status": "completed"
    },
    "tags": []
   },
   "outputs": [
    {
     "name": "stderr",
     "output_type": "stream",
     "text": [
      "Warning: importing 'simtk.openmm' is deprecated.  Import 'openmm' instead.\n"
     ]
    }
   ],
   "source": [
    "# more specific definition of the system, protein of chain A co-crystallized with ligand AES and\n",
    "# alternate location B, modeling will be performed according to the sequence of the given \n",
    "# UniProt ID\n",
    "protein = Protein.from_pdb(pdb_id=\"4f8o\", name=\"PsaA\", toolkit=\"MDAnalysis\")\n",
    "protein.uniprot_id = \"P31522\"\n",
    "protein.chain_id = \"A\"\n",
    "protein.alternate_location = \"B\"\n",
    "protein.expo_id = \"AES\"\n",
    "ligand = Ligand(name=\"AEBSF\")\n",
    "system = ProteinLigandComplex(components=[protein, ligand])\n",
    "systems.append(system)"
   ]
  },
  {
   "cell_type": "code",
   "execution_count": 6,
   "id": "5458d5a5-6358-4fd4-9d64-2e734569d1d0",
   "metadata": {
    "execution": {
     "iopub.execute_input": "2022-03-22T07:48:25.465284Z",
     "iopub.status.busy": "2022-03-22T07:48:25.465055Z",
     "iopub.status.idle": "2022-03-22T07:48:25.469502Z",
     "shell.execute_reply": "2022-03-22T07:48:25.469023Z"
    },
    "papermill": {
     "duration": 0.030084,
     "end_time": "2022-03-22T07:48:25.471383",
     "exception": false,
     "start_time": "2022-03-22T07:48:25.441299",
     "status": "completed"
    },
    "tags": []
   },
   "outputs": [],
   "source": [
    "featurizer = SCHRODINGERComplexFeaturizer(output_dir=\"output/complex\")"
   ]
  },
  {
   "cell_type": "markdown",
   "id": "678a9610-0009-4b0e-b5b4-cd9fc79a2177",
   "metadata": {
    "papermill": {
     "duration": 0.024996,
     "end_time": "2022-03-22T07:48:25.520102",
     "exception": false,
     "start_time": "2022-03-22T07:48:25.495106",
     "status": "completed"
    },
    "tags": []
   },
   "source": [
    "The featurizers will return the featurized systems as an [MDAnalysis universe](https://www.mdanalysis.org/). Systems that failed will be filtered out. In case one is interested in failures, one can enable logging messages via:\n",
    "```\n",
    "import logging  \n",
    "logging.basicConfig(level=logging.DEBUG)\n",
    "```"
   ]
  },
  {
   "cell_type": "code",
   "execution_count": 7,
   "id": "8eb84eac-ca63-4b72-b938-c7efa55ec19c",
   "metadata": {
    "execution": {
     "iopub.execute_input": "2022-03-22T07:48:25.567560Z",
     "iopub.status.busy": "2022-03-22T07:48:25.567339Z",
     "iopub.status.idle": "2022-03-22T07:48:43.022741Z",
     "shell.execute_reply": "2022-03-22T07:48:43.022208Z"
    },
    "papermill": {
     "duration": 17.481129,
     "end_time": "2022-03-22T07:48:43.024384",
     "exception": false,
     "start_time": "2022-03-22T07:48:25.543255",
     "status": "completed"
    },
    "tags": []
   },
   "outputs": [
    {
     "data": {
      "text/plain": [
       "[<ProteinLigandComplex with 2 components (<Protein name=PsaA>, <Ligand name=AEBSF>)>,\n",
       " <ProteinLigandComplex with 2 components (<Protein name=PsaA>, <Ligand name=AEBSF>)>]"
      ]
     },
     "execution_count": 7,
     "metadata": {},
     "output_type": "execute_result"
    }
   ],
   "source": [
    "%%capture --no-display\n",
    "systems = featurizer.featurize(systems)\n",
    "systems"
   ]
  },
  {
   "cell_type": "code",
   "execution_count": 8,
   "id": "92d67821-7c0f-4a83-be41-55e5ddd0fa46",
   "metadata": {
    "execution": {
     "iopub.execute_input": "2022-03-22T07:48:43.076699Z",
     "iopub.status.busy": "2022-03-22T07:48:43.076471Z",
     "iopub.status.idle": "2022-03-22T07:48:43.080693Z",
     "shell.execute_reply": "2022-03-22T07:48:43.080226Z"
    },
    "papermill": {
     "duration": 0.031778,
     "end_time": "2022-03-22T07:48:43.083830",
     "exception": false,
     "start_time": "2022-03-22T07:48:43.052052",
     "status": "completed"
    },
    "tags": []
   },
   "outputs": [
    {
     "data": {
      "text/plain": [
       "<Universe with 2506 atoms>"
      ]
     },
     "execution_count": 8,
     "metadata": {},
     "output_type": "execute_result"
    }
   ],
   "source": [
    "systems[0].featurizations[\"last\"]"
   ]
  },
  {
   "cell_type": "markdown",
   "id": "0e684725-a286-4e5a-bbed-c3cf314b7c41",
   "metadata": {
    "papermill": {
     "duration": 0.023318,
     "end_time": "2022-03-22T07:48:43.130414",
     "exception": false,
     "start_time": "2022-03-22T07:48:43.107096",
     "status": "completed"
    },
    "tags": []
   },
   "source": [
    "If an `output_dir` was provided, the prepared structure is saved in PDB format."
   ]
  },
  {
   "cell_type": "code",
   "execution_count": 9,
   "id": "354f1e57-0e54-49b4-ab07-2e0f53b203c5",
   "metadata": {
    "execution": {
     "iopub.execute_input": "2022-03-22T07:48:43.179127Z",
     "iopub.status.busy": "2022-03-22T07:48:43.178899Z",
     "iopub.status.idle": "2022-03-22T07:48:43.182918Z",
     "shell.execute_reply": "2022-03-22T07:48:43.182435Z"
    },
    "papermill": {
     "duration": 0.031505,
     "end_time": "2022-03-22T07:48:43.186000",
     "exception": false,
     "start_time": "2022-03-22T07:48:43.154495",
     "status": "completed"
    },
    "tags": []
   },
   "outputs": [
    {
     "name": "stdout",
     "output_type": "stream",
     "text": [
      "kinoml_SCHRODINGERComplexFeaturizer_PsaA_4f8o_AEBSF_complex.pdb\n",
      "kinoml_SCHRODINGERComplexFeaturizer_PsaA_4f8o_chainA_altlocB_AEBSF_complex.pdb\n"
     ]
    }
   ],
   "source": [
    "for path in sorted(Path(\"output/complex\").glob(\"*\")):\n",
    "    print(path.name)"
   ]
  },
  {
   "cell_type": "markdown",
   "id": "5e0012c1-1895-47dc-b501-71f4b763477d",
   "metadata": {
    "papermill": {
     "duration": 0.023986,
     "end_time": "2022-03-22T07:48:43.233835",
     "exception": false,
     "start_time": "2022-03-22T07:48:43.209849",
     "status": "completed"
    },
    "tags": []
   },
   "source": [
    "## SCHRODINGERDockingFeaturizer"
   ]
  },
  {
   "cell_type": "markdown",
   "id": "163c82b1-1e07-447d-a1c6-bac356cbe031",
   "metadata": {
    "papermill": {
     "duration": 0.023749,
     "end_time": "2022-03-22T07:48:43.282124",
     "exception": false,
     "start_time": "2022-03-22T07:48:43.258375",
     "status": "completed"
    },
    "tags": []
   },
   "source": [
    "Docking can be performed with and without shape restrain to the co-crystallized ligand. Moreover, the protein structure for docking must contain a co-crystallized ligand, which is required for the pocket definition."
   ]
  },
  {
   "cell_type": "code",
   "execution_count": 10,
   "id": "8528adcf-b340-491d-b5ff-575964bbbfea",
   "metadata": {
    "execution": {
     "iopub.execute_input": "2022-03-22T07:48:43.331009Z",
     "iopub.status.busy": "2022-03-22T07:48:43.330785Z",
     "iopub.status.idle": "2022-03-22T07:48:43.334238Z",
     "shell.execute_reply": "2022-03-22T07:48:43.333745Z"
    },
    "papermill": {
     "duration": 0.03155,
     "end_time": "2022-03-22T07:48:43.337314",
     "exception": false,
     "start_time": "2022-03-22T07:48:43.305764",
     "status": "completed"
    },
    "tags": []
   },
   "outputs": [
    {
     "name": "stdout",
     "output_type": "stream",
     "text": [
      "Given systems with exactly one protein and one ligand, prepare the\n",
      "structure dock the ligand into its binding site identified by a\n",
      "co-crystallized ligand. The following steps will be performed:\n",
      "\n",
      " - modeling missing loops\n",
      " - building missing side chains\n",
      " - mutations, if `uniprot_id` or `sequence` attribute is provided for the\n",
      "   protein component (see below)\n",
      " - removing everything but protein, water and ligand of interest\n",
      " - protonation at pH 7.4\n",
      " - docking a ligand\n",
      "\n",
      "The protein component of each system must be a `core.proteins.Protein` or\n",
      "a subclass thereof, must be initialized with toolkit='MDAnalysis' and give\n",
      "access to the molecular structure, e.g. via a pdb_id. Additionally, the\n",
      "protein component can have the following optional attributes to customize\n",
      "the protein modeling:\n",
      "\n",
      " - `name`: A string specifying the name of the protein, will be used for\n",
      "   generating the output file name.\n",
      " - `chain_id`: A string specifying which chain should be used.\n",
      " - `alternate_location`: A string specifying which alternate location\n",
      "   should be used.\n",
      " - `expo_id`: A string specifying a ligand bound to the protein of\n",
      "   interest. This is especially useful if multiple proteins are found in\n",
      "   one PDB structure.\n",
      " - `uniprot_id`: A string specifying the UniProt ID that will be used to\n",
      "   fetch the amino acid sequence from UniProt, which will be used for\n",
      "   modeling the protein. This will supersede the sequence information\n",
      "   given in the PDB header.\n",
      " - `sequence`: A string specifying the amino acid sequence in\n",
      "   one-letter-codes that should be used during modeling the protein. This\n",
      "   will supersede a given `uniprot_id` and the sequence information given\n",
      "   in the PDB header.\n",
      "\n",
      "The ligand component of each system must be a `core.ligands.Ligand` or a\n",
      "subclass thereof and give access to the molecular structure, e.g. via a\n",
      "SMILES. Additionally, the ligand component can have the following optional\n",
      "attributes:\n",
      "\n",
      " - `name`: A string specifying the name of the ligand, will be used for\n",
      "   generating the output file name and as molecule title in the docking\n",
      "   pose SDF file.\n",
      " - `macrocycle`: A bool specifying if the ligand shell be sampled as a\n",
      "   macrocycle during docking. Docking will fail, if SCHRDODINGER does not\n",
      "   consider the ligand a macrocycle.\n",
      "\n",
      "Parameters\n",
      "----------\n",
      "cache_dir: str, Path or None, default=None\n",
      "    Path to directory used for saving intermediate files. If None, default\n",
      "    location provided by `appdirs.user_cache_dir()` will be used.\n",
      "output_dir: str, Path or None, default=None\n",
      "    Path to directory used for saving output files. If None, output\n",
      "    structures will not be saved.\n",
      "use_multiprocessing : bool, default=True\n",
      "    If multiprocessing to use.\n",
      "n_processes : int or None, default=None\n",
      "    How many processes to use in case of multiprocessing. Defaults to\n",
      "    number of available CPUs.\n",
      "max_retry: int, default=3\n",
      "    The maximal number of attempts to try running the prepwizard and\n",
      "    docking steps.\n",
      "build_loops: bool, default=True\n",
      "    If missing loops shell be built. Is also needed to model mutations.\n",
      "shape_restrain: bool, default=True\n",
      "    If the docking shell be performed with shape restrain based on the\n",
      "    co-crystallized ligand.\n"
     ]
    }
   ],
   "source": [
    "print(inspect.getdoc(SCHRODINGERDockingFeaturizer))"
   ]
  },
  {
   "cell_type": "markdown",
   "id": "3f10336d-6237-480c-a753-7c68bc6e3e2c",
   "metadata": {
    "papermill": {
     "duration": 0.023906,
     "end_time": "2022-03-22T07:48:43.386474",
     "exception": false,
     "start_time": "2022-03-22T07:48:43.362568",
     "status": "completed"
    },
    "tags": []
   },
   "source": [
    "### Without shape restrain"
   ]
  },
  {
   "cell_type": "code",
   "execution_count": 11,
   "id": "25ec8a4c-a609-4810-adcd-9a4af11bf5ff",
   "metadata": {
    "execution": {
     "iopub.execute_input": "2022-03-22T07:48:43.435290Z",
     "iopub.status.busy": "2022-03-22T07:48:43.435068Z",
     "iopub.status.idle": "2022-03-22T07:48:43.437876Z",
     "shell.execute_reply": "2022-03-22T07:48:43.437392Z"
    },
    "papermill": {
     "duration": 0.030013,
     "end_time": "2022-03-22T07:48:43.440275",
     "exception": false,
     "start_time": "2022-03-22T07:48:43.410262",
     "status": "completed"
    },
    "tags": []
   },
   "outputs": [],
   "source": [
    "systems = []"
   ]
  },
  {
   "cell_type": "code",
   "execution_count": 12,
   "id": "20c215d2-dee7-4d85-a97b-85fbbadd4f36",
   "metadata": {
    "execution": {
     "iopub.execute_input": "2022-03-22T07:48:43.490262Z",
     "iopub.status.busy": "2022-03-22T07:48:43.490045Z",
     "iopub.status.idle": "2022-03-22T07:48:43.493908Z",
     "shell.execute_reply": "2022-03-22T07:48:43.493426Z"
    },
    "papermill": {
     "duration": 0.031206,
     "end_time": "2022-03-22T07:48:43.496320",
     "exception": false,
     "start_time": "2022-03-22T07:48:43.465114",
     "status": "completed"
    },
    "tags": []
   },
   "outputs": [],
   "source": [
    "protein = Protein(pdb_id=\"4yne\", uniprot_id=\"P04629\", name=\"NTRK1\", toolkit=\"MDAnalysis\")\n",
    "protein.expo_id = \"4EK\"\n",
    "ligand = Ligand(smiles=\"C1CC(N(C1)C2=NC3=C(C=NN3C=C2)NC(=O)N4CCC(C4)O)C5=C(C=CC(=C5)F)F\", name=\"larotrectinib\")\n",
    "system = ProteinLigandComplex(components=[protein, ligand])\n",
    "systems.append(system)"
   ]
  },
  {
   "cell_type": "code",
   "execution_count": 13,
   "id": "c3294d21-7f6b-4e05-97a1-ecfae31230d7",
   "metadata": {
    "execution": {
     "iopub.execute_input": "2022-03-22T07:48:43.589535Z",
     "iopub.status.busy": "2022-03-22T07:48:43.589318Z",
     "iopub.status.idle": "2022-03-22T07:48:43.593712Z",
     "shell.execute_reply": "2022-03-22T07:48:43.593249Z"
    },
    "papermill": {
     "duration": 0.032032,
     "end_time": "2022-03-22T07:48:43.595290",
     "exception": false,
     "start_time": "2022-03-22T07:48:43.563258",
     "status": "completed"
    },
    "tags": []
   },
   "outputs": [],
   "source": [
    "featurizer = SCHRODINGERDockingFeaturizer(\n",
    "    output_dir=\"output/docking_without_shape_restrain\",\n",
    "    shape_restrain=False\n",
    ")"
   ]
  },
  {
   "cell_type": "code",
   "execution_count": 14,
   "id": "b3e703d3-b47d-4b37-ba7c-7847f5eecdbc",
   "metadata": {
    "execution": {
     "iopub.execute_input": "2022-03-22T07:48:43.646797Z",
     "iopub.status.busy": "2022-03-22T07:48:43.646568Z",
     "iopub.status.idle": "2022-03-22T07:52:19.206479Z",
     "shell.execute_reply": "2022-03-22T07:52:19.205952Z"
    },
    "papermill": {
     "duration": 215.587327,
     "end_time": "2022-03-22T07:52:19.208213",
     "exception": false,
     "start_time": "2022-03-22T07:48:43.620886",
     "status": "completed"
    },
    "tags": []
   },
   "outputs": [
    {
     "name": "stdout",
     "output_type": "stream",
     "text": [
      "Removing previous job files...\n",
      "JobId: ls10-0-62397f6c\n",
      "ExitStatus: finished\n",
      "Converted file: /lila/data/chodera/shallerd/projects/schrodinger/kinoml/examples/output/docking_without_shape_restrain/kinoml_SCHRODINGERDockingFeaturizer_NTRK1_4yne_larotrectinib_complex.mae\n"
     ]
    },
    {
     "data": {
      "text/plain": [
       "[<ProteinLigandComplex with 2 components (<Protein name=NTRK1>, <Ligand name=larotrectinib>)>]"
      ]
     },
     "execution_count": 14,
     "metadata": {},
     "output_type": "execute_result"
    }
   ],
   "source": [
    "%%capture --no-display\n",
    "systems = featurizer.featurize(systems)\n",
    "systems"
   ]
  },
  {
   "cell_type": "markdown",
   "id": "092d09db-9220-4b29-9efc-cab0e0210dbc",
   "metadata": {
    "papermill": {
     "duration": 0.025554,
     "end_time": "2022-03-22T07:52:19.262628",
     "exception": false,
     "start_time": "2022-03-22T07:52:19.237074",
     "status": "completed"
    },
    "tags": []
   },
   "source": [
    "Docking scores are stored in the returned MDAnalysis universe."
   ]
  },
  {
   "cell_type": "code",
   "execution_count": 15,
   "id": "9febec67-160a-4ac7-aaeb-a3defb113101",
   "metadata": {
    "execution": {
     "iopub.execute_input": "2022-03-22T07:52:19.315296Z",
     "iopub.status.busy": "2022-03-22T07:52:19.315065Z",
     "iopub.status.idle": "2022-03-22T07:52:19.319320Z",
     "shell.execute_reply": "2022-03-22T07:52:19.318848Z"
    },
    "papermill": {
     "duration": 0.03418,
     "end_time": "2022-03-22T07:52:19.322446",
     "exception": false,
     "start_time": "2022-03-22T07:52:19.288266",
     "status": "completed"
    },
    "tags": []
   },
   "outputs": [
    {
     "data": {
      "text/plain": [
       "-9.82907"
      ]
     },
     "execution_count": 15,
     "metadata": {},
     "output_type": "execute_result"
    }
   ],
   "source": [
    "systems[0].featurizations[\"last\"]._topology.docking_score"
   ]
  },
  {
   "cell_type": "markdown",
   "id": "c3ff444f-289c-4bdc-b342-9beaefb554eb",
   "metadata": {
    "papermill": {
     "duration": 0.025814,
     "end_time": "2022-03-22T07:52:19.374895",
     "exception": false,
     "start_time": "2022-03-22T07:52:19.349081",
     "status": "completed"
    },
    "tags": []
   },
   "source": [
    "If an `output_dir` was provided, the prepared structure is saved in PDB and MAE format, the prepared ligand is additionally saved in SDF format."
   ]
  },
  {
   "cell_type": "code",
   "execution_count": 16,
   "id": "f2147b48-ded0-4cc8-acc1-78f976117b8e",
   "metadata": {
    "execution": {
     "iopub.execute_input": "2022-03-22T07:52:19.428042Z",
     "iopub.status.busy": "2022-03-22T07:52:19.427815Z",
     "iopub.status.idle": "2022-03-22T07:52:19.431575Z",
     "shell.execute_reply": "2022-03-22T07:52:19.431096Z"
    },
    "papermill": {
     "duration": 0.033844,
     "end_time": "2022-03-22T07:52:19.434613",
     "exception": false,
     "start_time": "2022-03-22T07:52:19.400769",
     "status": "completed"
    },
    "tags": []
   },
   "outputs": [
    {
     "name": "stdout",
     "output_type": "stream",
     "text": [
      "kinoml_SCHRODINGERDockingFeaturizer_NTRK1_4yne_larotrectinib_complex.mae\n",
      "kinoml_SCHRODINGERDockingFeaturizer_NTRK1_4yne_larotrectinib_complex.pdb\n",
      "kinoml_SCHRODINGERDockingFeaturizer_NTRK1_4yne_larotrectinib_ligand.sdf\n"
     ]
    }
   ],
   "source": [
    "for path in sorted(Path(\"output/docking_without_shape_restrain\").glob(\"*\")):\n",
    "    print(path.name)"
   ]
  },
  {
   "cell_type": "markdown",
   "id": "fe503149-8950-4319-8d78-3d178fd6f200",
   "metadata": {
    "papermill": {
     "duration": 0.02657,
     "end_time": "2022-03-22T07:52:19.488067",
     "exception": false,
     "start_time": "2022-03-22T07:52:19.461497",
     "status": "completed"
    },
    "tags": []
   },
   "source": [
    "### With shape restrain"
   ]
  },
  {
   "cell_type": "code",
   "execution_count": 17,
   "id": "4e8e8ce9-4b90-43de-9ae7-12bb935bcb20",
   "metadata": {
    "execution": {
     "iopub.execute_input": "2022-03-22T07:52:19.541769Z",
     "iopub.status.busy": "2022-03-22T07:52:19.541548Z",
     "iopub.status.idle": "2022-03-22T07:52:19.544383Z",
     "shell.execute_reply": "2022-03-22T07:52:19.543886Z"
    },
    "papermill": {
     "duration": 0.032284,
     "end_time": "2022-03-22T07:52:19.546748",
     "exception": false,
     "start_time": "2022-03-22T07:52:19.514464",
     "status": "completed"
    },
    "tags": []
   },
   "outputs": [],
   "source": [
    "systems = []"
   ]
  },
  {
   "cell_type": "code",
   "execution_count": 18,
   "id": "53fd6089-158d-4682-a4f6-2b411d1140f9",
   "metadata": {
    "execution": {
     "iopub.execute_input": "2022-03-22T07:52:19.600687Z",
     "iopub.status.busy": "2022-03-22T07:52:19.600472Z",
     "iopub.status.idle": "2022-03-22T07:52:19.604342Z",
     "shell.execute_reply": "2022-03-22T07:52:19.603850Z"
    },
    "papermill": {
     "duration": 0.033206,
     "end_time": "2022-03-22T07:52:19.606716",
     "exception": false,
     "start_time": "2022-03-22T07:52:19.573510",
     "status": "completed"
    },
    "tags": []
   },
   "outputs": [],
   "source": [
    "protein = Protein(pdb_id=\"4yne\", uniprot_id=\"P04629\", name=\"NTRK1\", toolkit=\"MDAnalysis\")\n",
    "protein.expo_id = \"4EK\"\n",
    "ligand = Ligand(smiles=\"C1CC(N(C1)C2=NC3=C(C=NN3C=C2)NC(=O)N4CCC(C4)O)C5=C(C=CC(=C5)F)F\", name=\"larotrectinib\")\n",
    "system = ProteinLigandComplex(components=[protein, ligand])\n",
    "systems.append(system)"
   ]
  },
  {
   "cell_type": "code",
   "execution_count": 19,
   "id": "e81e540e-b6d2-48b7-ae97-ff15dcc8d394",
   "metadata": {
    "execution": {
     "iopub.execute_input": "2022-03-22T07:52:19.660099Z",
     "iopub.status.busy": "2022-03-22T07:52:19.659871Z",
     "iopub.status.idle": "2022-03-22T07:52:19.663701Z",
     "shell.execute_reply": "2022-03-22T07:52:19.663232Z"
    },
    "papermill": {
     "duration": 0.032816,
     "end_time": "2022-03-22T07:52:19.665632",
     "exception": false,
     "start_time": "2022-03-22T07:52:19.632816",
     "status": "completed"
    },
    "tags": []
   },
   "outputs": [],
   "source": [
    "featurizer = SCHRODINGERDockingFeaturizer(\n",
    "    output_dir=\"output/docking_with_shape_restrain\",\n",
    "    shape_restrain=True,\n",
    ")"
   ]
  },
  {
   "cell_type": "code",
   "execution_count": 20,
   "id": "42b85a04-1d97-41af-af7d-9647645cc5c9",
   "metadata": {
    "execution": {
     "iopub.execute_input": "2022-03-22T07:52:19.720029Z",
     "iopub.status.busy": "2022-03-22T07:52:19.719800Z",
     "iopub.status.idle": "2022-03-22T07:54:54.252565Z",
     "shell.execute_reply": "2022-03-22T07:54:54.252050Z"
    },
    "papermill": {
     "duration": 154.561435,
     "end_time": "2022-03-22T07:54:54.254181",
     "exception": false,
     "start_time": "2022-03-22T07:52:19.692746",
     "status": "completed"
    },
    "tags": []
   },
   "outputs": [
    {
     "name": "stdout",
     "output_type": "stream",
     "text": [
      "Removing previous job files...\n",
      "JobId: ls10-0-62398043\n",
      "ExitStatus: finished\n",
      "Converted file: /lila/data/chodera/shallerd/projects/schrodinger/kinoml/examples/output/docking_with_shape_restrain/kinoml_SCHRODINGERDockingFeaturizer_NTRK1_4yne_larotrectinib_complex.mae\n"
     ]
    },
    {
     "data": {
      "text/plain": [
       "[<ProteinLigandComplex with 2 components (<Protein name=NTRK1>, <Ligand name=larotrectinib>)>]"
      ]
     },
     "execution_count": 20,
     "metadata": {},
     "output_type": "execute_result"
    }
   ],
   "source": [
    "%%capture --no-display\n",
    "systems = featurizer.featurize(systems)\n",
    "systems"
   ]
  },
  {
   "cell_type": "markdown",
   "id": "f12885ea-b91f-473e-882a-08ddcb99d60f",
   "metadata": {
    "papermill": {
     "duration": 0.027364,
     "end_time": "2022-03-22T07:54:54.312616",
     "exception": false,
     "start_time": "2022-03-22T07:54:54.285252",
     "status": "completed"
    },
    "tags": []
   },
   "source": [
    "## MostSimilarPDBLigandFeaturizer\n",
    "\n",
    "Manually specifying the most suitable PDB structure to dock into is not practical for a larger set of ligands. Hence, the `MostSimilarPDBLigandFeaturizer` was implemented, wich can find the most suitable structure for docking in the PDB based on ligand similarity. The user can choose from one the following similarity metrics:\n",
    "\n",
    "- Fingerprint\n",
    "- Most common substructure\n",
    "- OpenEye's shape\n",
    "- Schrodinger's shape"
   ]
  },
  {
   "cell_type": "code",
   "execution_count": 21,
   "id": "9d84eacd-3b8e-49d4-b1f3-c106735a6460",
   "metadata": {
    "execution": {
     "iopub.execute_input": "2022-03-22T07:54:54.368587Z",
     "iopub.status.busy": "2022-03-22T07:54:54.368356Z",
     "iopub.status.idle": "2022-03-22T07:54:54.371834Z",
     "shell.execute_reply": "2022-03-22T07:54:54.371349Z"
    },
    "papermill": {
     "duration": 0.034954,
     "end_time": "2022-03-22T07:54:54.374899",
     "exception": false,
     "start_time": "2022-03-22T07:54:54.339945",
     "status": "completed"
    },
    "tags": []
   },
   "outputs": [
    {
     "name": "stdout",
     "output_type": "stream",
     "text": [
      "Find the most similar co-crystallized ligand in the PDB according to a\n",
      "given SMILES and UniProt ID.\n",
      "\n",
      "The protein component of each system must be a `core.proteins.Protein` or\n",
      "a subclass thereof, and must be initialized with a `uniprot_id` parameter.\n",
      "\n",
      "The ligand component of each system must be a `core.ligands.Ligand` or a\n",
      "subclass thereof and give access to the molecular structure, e.g. via a\n",
      "SMILES.\n",
      "\n",
      "Parameters\n",
      "----------\n",
      "similarity_metric: str, default=\"fingerprint\"\n",
      "    The similarity metric to use to detect the structure with the most\n",
      "    similar ligand [\"fingerprint\", \"mcs\", \"openeye_shape\",\n",
      "    \"schrodinger_shape\"].\n",
      "cache_dir: str, Path or None, default=None\n",
      "    Path to directory used for saving intermediate files. If None, default\n",
      "    location provided by `appdirs.user_cache_dir()` will be used.\n",
      "use_multiprocessing : bool, default=True\n",
      "    If multiprocessing to use.\n",
      "n_processes : int or None, default=None\n",
      "    How many processes to use in case of multiprocessing. Defaults to\n",
      "    number of available CPUs.\n",
      "\n",
      "Note\n",
      "----\n",
      "The toolkit ['MDAnalysis' or 'OpenEye'] specified in the protein object\n",
      "initialization should fit the required toolkit when subsequently applying\n",
      "the OEDockingFeaturizer or SCHRODINGERDockingFeaturizer.\n"
     ]
    }
   ],
   "source": [
    "print(inspect.getdoc(MostSimilarPDBLigandFeaturizer))"
   ]
  },
  {
   "cell_type": "markdown",
   "id": "163bef90-207c-4023-b494-6847af3f4958",
   "metadata": {
    "papermill": {
     "duration": 0.027516,
     "end_time": "2022-03-22T07:54:54.431020",
     "exception": false,
     "start_time": "2022-03-22T07:54:54.403504",
     "status": "completed"
    },
    "tags": []
   },
   "source": [
    "### Most common substructure"
   ]
  },
  {
   "cell_type": "code",
   "execution_count": 22,
   "id": "372d7ea1-324a-4f44-8b8d-3cc3021d2c81",
   "metadata": {
    "execution": {
     "iopub.execute_input": "2022-03-22T07:54:54.488002Z",
     "iopub.status.busy": "2022-03-22T07:54:54.487772Z",
     "iopub.status.idle": "2022-03-22T07:54:54.490587Z",
     "shell.execute_reply": "2022-03-22T07:54:54.490104Z"
    },
    "papermill": {
     "duration": 0.034009,
     "end_time": "2022-03-22T07:54:54.492987",
     "exception": false,
     "start_time": "2022-03-22T07:54:54.458978",
     "status": "completed"
    },
    "tags": []
   },
   "outputs": [],
   "source": [
    "systems = []"
   ]
  },
  {
   "cell_type": "code",
   "execution_count": 23,
   "id": "83002b9e-0eb8-4f39-8d55-2cbb3b55d7a4",
   "metadata": {
    "execution": {
     "iopub.execute_input": "2022-03-22T07:54:54.549983Z",
     "iopub.status.busy": "2022-03-22T07:54:54.549770Z",
     "iopub.status.idle": "2022-03-22T07:54:54.553436Z",
     "shell.execute_reply": "2022-03-22T07:54:54.552944Z"
    },
    "papermill": {
     "duration": 0.034318,
     "end_time": "2022-03-22T07:54:54.555811",
     "exception": false,
     "start_time": "2022-03-22T07:54:54.521493",
     "status": "completed"
    },
    "tags": []
   },
   "outputs": [],
   "source": [
    "protein = Protein(uniprot_id=\"P04629\", name=\"NTRK1\", toolkit=\"MDAnalysis\")\n",
    "ligand = Ligand(smiles=\"C1CC(N(C1)C2=NC3=C(C=NN3C=C2)NC(=O)N4CCC(C4)O)C5=C(C=CC(=C5)F)F\", name=\"larotrectinib\")\n",
    "system = ProteinLigandComplex(components=[protein, ligand])\n",
    "systems.append(system)"
   ]
  },
  {
   "cell_type": "code",
   "execution_count": 24,
   "id": "cac30a83-1546-4abd-9186-d951a2d52a8c",
   "metadata": {
    "execution": {
     "iopub.execute_input": "2022-03-22T07:54:54.613978Z",
     "iopub.status.busy": "2022-03-22T07:54:54.613767Z",
     "iopub.status.idle": "2022-03-22T07:54:54.616804Z",
     "shell.execute_reply": "2022-03-22T07:54:54.616348Z"
    },
    "papermill": {
     "duration": 0.034482,
     "end_time": "2022-03-22T07:54:54.619226",
     "exception": false,
     "start_time": "2022-03-22T07:54:54.584744",
     "status": "completed"
    },
    "tags": []
   },
   "outputs": [],
   "source": [
    "featurizer = MostSimilarPDBLigandFeaturizer(similarity_metric=\"mcs\")"
   ]
  },
  {
   "cell_type": "code",
   "execution_count": 25,
   "id": "edcd8461-6b23-4e39-9800-e7755c640a45",
   "metadata": {
    "execution": {
     "iopub.execute_input": "2022-03-22T07:54:54.678477Z",
     "iopub.status.busy": "2022-03-22T07:54:54.678245Z",
     "iopub.status.idle": "2022-03-22T07:55:03.327485Z",
     "shell.execute_reply": "2022-03-22T07:55:03.326765Z"
    },
    "papermill": {
     "duration": 8.680387,
     "end_time": "2022-03-22T07:55:03.329101",
     "exception": false,
     "start_time": "2022-03-22T07:54:54.648714",
     "status": "completed"
    },
    "tags": []
   },
   "outputs": [
    {
     "data": {
      "text/plain": [
       "('4YNE', 'A', '4EK')"
      ]
     },
     "execution_count": 25,
     "metadata": {},
     "output_type": "execute_result"
    },
    {
     "name": "stdout",
     "output_type": "stream",
     "text": [
      "8.64 s ± 0 ns per loop (mean ± std. dev. of 1 run, 1 loop each)\n"
     ]
    }
   ],
   "source": [
    "%%timeit -n 1 -r 1\n",
    "%%capture --no-display\n",
    "systems = featurizer.featurize(systems)\n",
    "systems[0].protein.pdb_id, systems[0].protein.chain_id, systems[0].protein.expo_id"
   ]
  },
  {
   "cell_type": "markdown",
   "id": "be0b03ee-6123-4077-b3fd-586bce4bf748",
   "metadata": {
    "papermill": {
     "duration": 0.028702,
     "end_time": "2022-03-22T07:55:03.390437",
     "exception": false,
     "start_time": "2022-03-22T07:55:03.361735",
     "status": "completed"
    },
    "tags": []
   },
   "source": [
    "### Fingerprint"
   ]
  },
  {
   "cell_type": "code",
   "execution_count": 26,
   "id": "0c7dcbf1-7607-4b5f-8ed4-44f0a00b41e7",
   "metadata": {
    "execution": {
     "iopub.execute_input": "2022-03-22T07:55:03.449656Z",
     "iopub.status.busy": "2022-03-22T07:55:03.449428Z",
     "iopub.status.idle": "2022-03-22T07:55:03.452687Z",
     "shell.execute_reply": "2022-03-22T07:55:03.452203Z"
    },
    "papermill": {
     "duration": 0.035473,
     "end_time": "2022-03-22T07:55:03.455078",
     "exception": false,
     "start_time": "2022-03-22T07:55:03.419605",
     "status": "completed"
    },
    "tags": []
   },
   "outputs": [],
   "source": [
    "featurizer = MostSimilarPDBLigandFeaturizer(similarity_metric=\"fingerprint\")"
   ]
  },
  {
   "cell_type": "code",
   "execution_count": 27,
   "id": "61322085-91dd-47b6-9517-33383a7d5a5c",
   "metadata": {
    "execution": {
     "iopub.execute_input": "2022-03-22T07:55:03.513390Z",
     "iopub.status.busy": "2022-03-22T07:55:03.513163Z",
     "iopub.status.idle": "2022-03-22T07:55:06.387276Z",
     "shell.execute_reply": "2022-03-22T07:55:06.386613Z"
    },
    "papermill": {
     "duration": 2.905089,
     "end_time": "2022-03-22T07:55:06.388905",
     "exception": false,
     "start_time": "2022-03-22T07:55:03.483816",
     "status": "completed"
    },
    "tags": []
   },
   "outputs": [
    {
     "data": {
      "text/plain": [
       "('4YNE', 'A', '4EK')"
      ]
     },
     "execution_count": 27,
     "metadata": {},
     "output_type": "execute_result"
    },
    {
     "name": "stdout",
     "output_type": "stream",
     "text": [
      "2.87 s ± 0 ns per loop (mean ± std. dev. of 1 run, 1 loop each)\n"
     ]
    }
   ],
   "source": [
    "%%timeit -n 1 -r 1\n",
    "%%capture --no-display\n",
    "systems = featurizer.featurize(systems)\n",
    "systems[0].protein.pdb_id, systems[0].protein.chain_id, systems[0].protein.expo_id"
   ]
  },
  {
   "cell_type": "markdown",
   "id": "af8fc96b-3dae-4fcf-bf50-693df0fa9be8",
   "metadata": {
    "papermill": {
     "duration": 0.028886,
     "end_time": "2022-03-22T07:55:06.448961",
     "exception": false,
     "start_time": "2022-03-22T07:55:06.420075",
     "status": "completed"
    },
    "tags": []
   },
   "source": [
    "### Schrodinger's shape"
   ]
  },
  {
   "cell_type": "code",
   "execution_count": 28,
   "id": "f052e537-e0ab-4ba2-9549-40b809ea112f",
   "metadata": {
    "execution": {
     "iopub.execute_input": "2022-03-22T07:55:06.509211Z",
     "iopub.status.busy": "2022-03-22T07:55:06.508968Z",
     "iopub.status.idle": "2022-03-22T07:55:06.512508Z",
     "shell.execute_reply": "2022-03-22T07:55:06.512023Z"
    },
    "papermill": {
     "duration": 0.036512,
     "end_time": "2022-03-22T07:55:06.514901",
     "exception": false,
     "start_time": "2022-03-22T07:55:06.478389",
     "status": "completed"
    },
    "tags": []
   },
   "outputs": [],
   "source": [
    "featurizer = MostSimilarPDBLigandFeaturizer(similarity_metric=\"schrodinger_shape\")"
   ]
  },
  {
   "cell_type": "code",
   "execution_count": 29,
   "id": "350ebff7-9fe2-4f12-9ec1-5cb65b8848d5",
   "metadata": {
    "execution": {
     "iopub.execute_input": "2022-03-22T07:55:06.575843Z",
     "iopub.status.busy": "2022-03-22T07:55:06.575625Z",
     "iopub.status.idle": "2022-03-22T07:55:20.042227Z",
     "shell.execute_reply": "2022-03-22T07:55:20.041685Z"
    },
    "papermill": {
     "duration": 13.498599,
     "end_time": "2022-03-22T07:55:20.043829",
     "exception": false,
     "start_time": "2022-03-22T07:55:06.545230",
     "status": "completed"
    },
    "tags": []
   },
   "outputs": [
    {
     "name": "stderr",
     "output_type": "stream",
     "text": [
      "perl: warning: Setting locale failed.\n",
      "perl: warning: Please check that your locale settings:\n",
      "\tLANGUAGE = (unset),\n",
      "\tLC_ALL = (unset),\n",
      "\tLC_NUMERIC = \"C\",\n",
      "\tLC_TIME = \"C\",\n",
      "\tLANG = \"C.UTF-8\"\n",
      "    are supported and installed on your system.\n",
      "perl: warning: Falling back to the standard locale (\"C\").\n"
     ]
    },
    {
     "name": "stdout",
     "output_type": "stream",
     "text": [
      "JobId: ls10-0-623980de\n"
     ]
    },
    {
     "data": {
      "text/plain": [
       "('4YPS', 'A', '4F6')"
      ]
     },
     "execution_count": 29,
     "metadata": {},
     "output_type": "execute_result"
    },
    {
     "name": "stdout",
     "output_type": "stream",
     "text": [
      "13.5 s ± 0 ns per loop (mean ± std. dev. of 1 run, 1 loop each)\n"
     ]
    }
   ],
   "source": [
    "%%timeit -n 1 -r 1\n",
    "%%capture --no-display\n",
    "systems = featurizer.featurize(systems)\n",
    "systems[0].protein.pdb_id, systems[0].protein.chain_id, systems[0].protein.expo_id"
   ]
  },
  {
   "cell_type": "markdown",
   "id": "8a071c6c-0ac7-4ddd-8222-2dc286422504",
   "metadata": {
    "papermill": {
     "duration": 0.032014,
     "end_time": "2022-03-22T07:55:20.121320",
     "exception": false,
     "start_time": "2022-03-22T07:55:20.089306",
     "status": "completed"
    },
    "tags": []
   },
   "source": [
    "Using shape is the slowest option, but in many cases the most accurate one."
   ]
  },
  {
   "cell_type": "markdown",
   "id": "6d6e7776-604e-4072-bffd-89aaef4bd034",
   "metadata": {
    "papermill": {
     "duration": 0.037915,
     "end_time": "2022-03-22T07:55:20.192817",
     "exception": false,
     "start_time": "2022-03-22T07:55:20.154902",
     "status": "completed"
    },
    "tags": []
   },
   "source": [
    "### Pipeline of MostSimilarPDBLigandFeaturizer and SCHRODINGERDockingFeaturizer\n",
    "\n",
    "The `MostSimilarPDBLigandFeaturizer` can be joined with the `SCHRODINGERDockingFeaturizer` into a `Pipeline` featurizer."
   ]
  },
  {
   "cell_type": "code",
   "execution_count": 30,
   "id": "836af6ba-0207-43ed-890d-e2f863dce352",
   "metadata": {
    "execution": {
     "iopub.execute_input": "2022-03-22T07:55:20.256778Z",
     "iopub.status.busy": "2022-03-22T07:55:20.256557Z",
     "iopub.status.idle": "2022-03-22T07:55:20.259478Z",
     "shell.execute_reply": "2022-03-22T07:55:20.259008Z"
    },
    "papermill": {
     "duration": 0.038155,
     "end_time": "2022-03-22T07:55:20.261836",
     "exception": false,
     "start_time": "2022-03-22T07:55:20.223681",
     "status": "completed"
    },
    "tags": []
   },
   "outputs": [],
   "source": [
    "systems = []"
   ]
  },
  {
   "cell_type": "code",
   "execution_count": 31,
   "id": "ffc06935-e0ae-4a73-bf7d-4ff0669eebe9",
   "metadata": {
    "execution": {
     "iopub.execute_input": "2022-03-22T07:55:20.332123Z",
     "iopub.status.busy": "2022-03-22T07:55:20.331884Z",
     "iopub.status.idle": "2022-03-22T07:55:20.335665Z",
     "shell.execute_reply": "2022-03-22T07:55:20.335193Z"
    },
    "papermill": {
     "duration": 0.043907,
     "end_time": "2022-03-22T07:55:20.338662",
     "exception": false,
     "start_time": "2022-03-22T07:55:20.294755",
     "status": "completed"
    },
    "tags": []
   },
   "outputs": [],
   "source": [
    "protein = Protein(uniprot_id=\"P04629\", name=\"NTRK1\", toolkit=\"MDAnalysis\")\n",
    "ligand = Ligand(smiles=\"C1CC(N(C1)C2=NC3=C(C=NN3C=C2)NC(=O)N4CCC(C4)O)C5=C(C=CC(=C5)F)F\", name=\"larotrectinib\")\n",
    "system = ProteinLigandComplex(components=[protein, ligand])\n",
    "systems.append(system)"
   ]
  },
  {
   "cell_type": "code",
   "execution_count": 32,
   "id": "aad92cea-d047-40e3-b194-92c3130a3223",
   "metadata": {
    "execution": {
     "iopub.execute_input": "2022-03-22T07:55:20.403035Z",
     "iopub.status.busy": "2022-03-22T07:55:20.402806Z",
     "iopub.status.idle": "2022-03-22T07:55:20.406750Z",
     "shell.execute_reply": "2022-03-22T07:55:20.406283Z"
    },
    "papermill": {
     "duration": 0.038855,
     "end_time": "2022-03-22T07:55:20.408780",
     "exception": false,
     "start_time": "2022-03-22T07:55:20.369925",
     "status": "completed"
    },
    "tags": []
   },
   "outputs": [],
   "source": [
    "featurizer = Pipeline([\n",
    "    MostSimilarPDBLigandFeaturizer(similarity_metric=\"fingerprint\"),\n",
    "    SCHRODINGERDockingFeaturizer(output_dir=\"output/docking_pipeline\"),\n",
    "])"
   ]
  },
  {
   "cell_type": "code",
   "execution_count": 33,
   "id": "6b2776cb-774d-4255-b299-7c56ccec611a",
   "metadata": {
    "execution": {
     "iopub.execute_input": "2022-03-22T07:55:20.472537Z",
     "iopub.status.busy": "2022-03-22T07:55:20.472324Z",
     "iopub.status.idle": "2022-03-22T07:57:57.208884Z",
     "shell.execute_reply": "2022-03-22T07:57:57.208205Z"
    },
    "papermill": {
     "duration": 156.770352,
     "end_time": "2022-03-22T07:57:57.210754",
     "exception": false,
     "start_time": "2022-03-22T07:55:20.440402",
     "status": "completed"
    },
    "tags": []
   },
   "outputs": [
    {
     "name": "stdout",
     "output_type": "stream",
     "text": [
      "Removing previous job files...\n",
      "JobId: ls10-0-623980fa\n",
      "ExitStatus: finished\n",
      "Converted file: /lila/data/chodera/shallerd/projects/schrodinger/kinoml/examples/output/docking_pipeline/kinoml_SCHRODINGERDockingFeaturizer_NTRK1_4YNE_chainA_larotrectinib_complex.mae\n"
     ]
    },
    {
     "data": {
      "text/plain": [
       "[<ProteinLigandComplex with 2 components (<Protein name=NTRK1>, <Ligand name=larotrectinib>)>]"
      ]
     },
     "execution_count": 33,
     "metadata": {},
     "output_type": "execute_result"
    }
   ],
   "source": [
    "%%capture --no-display\n",
    "systems = featurizer.featurize(systems)\n",
    "systems"
   ]
  },
  {
   "cell_type": "code",
   "execution_count": 34,
   "id": "36b3c973-9931-4442-945b-e339dab3f1c6",
   "metadata": {
    "execution": {
     "iopub.execute_input": "2022-03-22T07:57:57.278344Z",
     "iopub.status.busy": "2022-03-22T07:57:57.278123Z",
     "iopub.status.idle": "2022-03-22T07:57:57.282243Z",
     "shell.execute_reply": "2022-03-22T07:57:57.281776Z"
    },
    "papermill": {
     "duration": 0.039561,
     "end_time": "2022-03-22T07:57:57.285328",
     "exception": false,
     "start_time": "2022-03-22T07:57:57.245767",
     "status": "completed"
    },
    "tags": []
   },
   "outputs": [
    {
     "data": {
      "text/plain": [
       "{'last': <Universe with 4967 atoms>,\n",
       " 'Pipeline([MostSimilarPDBLigandFeaturizer, SCHRODINGERDockingFeaturizer])': <Universe with 4967 atoms>}"
      ]
     },
     "execution_count": 34,
     "metadata": {},
     "output_type": "execute_result"
    }
   ],
   "source": [
    "systems[0].featurizations"
   ]
  }
 ],
 "metadata": {
  "kernelspec": {
   "display_name": "Python 3 (ipykernel)",
   "language": "python",
   "name": "python3"
  },
  "language_info": {
   "codemirror_mode": {
    "name": "ipython",
    "version": 3
   },
   "file_extension": ".py",
   "mimetype": "text/x-python",
   "name": "python",
   "nbconvert_exporter": "python",
   "pygments_lexer": "ipython3",
   "version": "3.9.10"
  },
  "papermill": {
   "default_parameters": {},
   "duration": 596.912803,
   "end_time": "2022-03-22T07:57:57.753083",
   "environment_variables": {},
   "exception": null,
   "input_path": "Schrodinger_structural_featurizer.ipynb",
   "output_path": "Schrodinger_structural_featurizer_out.ipynb",
   "parameters": {},
   "start_time": "2022-03-22T07:48:00.840280",
   "version": "2.2.2"
  }
 },
 "nbformat": 4,
 "nbformat_minor": 5
}
